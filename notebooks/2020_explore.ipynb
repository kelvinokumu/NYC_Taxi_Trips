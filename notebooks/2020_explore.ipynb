{
 "cells": [
  {
   "cell_type": "markdown",
   "id": "48be161c-ae88-4f15-b6f7-610379c0546f",
   "metadata": {},
   "source": [
    "# 2020 Data"
   ]
  },
  {
   "cell_type": "code",
   "execution_count": 1,
   "id": "aa512fa3-16c5-4756-bf51-045115edc0fa",
   "metadata": {},
   "outputs": [],
   "source": [
    "import pandas as pd\n",
    "import numpy as np"
   ]
  },
  {
   "cell_type": "code",
   "execution_count": 2,
   "id": "fc807708-130f-45a7-872c-a693a41fb580",
   "metadata": {},
   "outputs": [
    {
     "name": "stderr",
     "output_type": "stream",
     "text": [
      "/tmp/ipykernel_84859/3897956279.py:3: DtypeWarning: Columns (3) have mixed types. Specify dtype option on import or set low_memory=False.\n",
      "  trips_2020 = pd.read_csv(file_path)\n"
     ]
    }
   ],
   "source": [
    "file_path = \"/home/dcti-02-11/projects/data/NYC_Taxi_Trips/data/2020_taxi_trips.csv\"\n",
    "\n",
    "trips_2020 = pd.read_csv(file_path)"
   ]
  },
  {
   "cell_type": "code",
   "execution_count": 3,
   "id": "3c044ddb-3de2-477e-8d43-f6c983feb4a5",
   "metadata": {},
   "outputs": [
    {
     "data": {
      "text/html": [
       "<div>\n",
       "<style scoped>\n",
       "    .dataframe tbody tr th:only-of-type {\n",
       "        vertical-align: middle;\n",
       "    }\n",
       "\n",
       "    .dataframe tbody tr th {\n",
       "        vertical-align: top;\n",
       "    }\n",
       "\n",
       "    .dataframe thead th {\n",
       "        text-align: right;\n",
       "    }\n",
       "</style>\n",
       "<table border=\"1\" class=\"dataframe\">\n",
       "  <thead>\n",
       "    <tr style=\"text-align: right;\">\n",
       "      <th></th>\n",
       "      <th>VendorID</th>\n",
       "      <th>lpep_pickup_datetime</th>\n",
       "      <th>lpep_dropoff_datetime</th>\n",
       "      <th>store_and_fwd_flag</th>\n",
       "      <th>RatecodeID</th>\n",
       "      <th>PULocationID</th>\n",
       "      <th>DOLocationID</th>\n",
       "      <th>passenger_count</th>\n",
       "      <th>trip_distance</th>\n",
       "      <th>fare_amount</th>\n",
       "      <th>extra</th>\n",
       "      <th>mta_tax</th>\n",
       "      <th>tip_amount</th>\n",
       "      <th>tolls_amount</th>\n",
       "      <th>improvement_surcharge</th>\n",
       "      <th>total_amount</th>\n",
       "      <th>payment_type</th>\n",
       "      <th>trip_type</th>\n",
       "      <th>congestion_surcharge</th>\n",
       "    </tr>\n",
       "  </thead>\n",
       "  <tbody>\n",
       "    <tr>\n",
       "      <th>0</th>\n",
       "      <td>2.0</td>\n",
       "      <td>2020-01-01 06:47:28.000</td>\n",
       "      <td>2020-01-01 06:52:54.000</td>\n",
       "      <td>N</td>\n",
       "      <td>1.0</td>\n",
       "      <td>74</td>\n",
       "      <td>75</td>\n",
       "      <td>1.0</td>\n",
       "      <td>1.47</td>\n",
       "      <td>6.5</td>\n",
       "      <td>0.0</td>\n",
       "      <td>0.5</td>\n",
       "      <td>0.0</td>\n",
       "      <td>0.0</td>\n",
       "      <td>0.3</td>\n",
       "      <td>7.3</td>\n",
       "      <td>2.0</td>\n",
       "      <td>1.0</td>\n",
       "      <td>0.0</td>\n",
       "    </tr>\n",
       "    <tr>\n",
       "      <th>1</th>\n",
       "      <td>2.0</td>\n",
       "      <td>2020-01-01 13:25:34.000</td>\n",
       "      <td>2020-01-01 13:30:43.000</td>\n",
       "      <td>N</td>\n",
       "      <td>1.0</td>\n",
       "      <td>74</td>\n",
       "      <td>75</td>\n",
       "      <td>1.0</td>\n",
       "      <td>1.49</td>\n",
       "      <td>6.5</td>\n",
       "      <td>0.0</td>\n",
       "      <td>0.5</td>\n",
       "      <td>0.0</td>\n",
       "      <td>0.0</td>\n",
       "      <td>0.3</td>\n",
       "      <td>7.3</td>\n",
       "      <td>2.0</td>\n",
       "      <td>1.0</td>\n",
       "      <td>0.0</td>\n",
       "    </tr>\n",
       "    <tr>\n",
       "      <th>2</th>\n",
       "      <td>2.0</td>\n",
       "      <td>2020-01-01 14:20:35.000</td>\n",
       "      <td>2020-01-01 14:26:25.000</td>\n",
       "      <td>N</td>\n",
       "      <td>1.0</td>\n",
       "      <td>74</td>\n",
       "      <td>75</td>\n",
       "      <td>1.0</td>\n",
       "      <td>1.31</td>\n",
       "      <td>6.5</td>\n",
       "      <td>0.0</td>\n",
       "      <td>0.5</td>\n",
       "      <td>0.0</td>\n",
       "      <td>0.0</td>\n",
       "      <td>0.3</td>\n",
       "      <td>7.3</td>\n",
       "      <td>2.0</td>\n",
       "      <td>1.0</td>\n",
       "      <td>0.0</td>\n",
       "    </tr>\n",
       "    <tr>\n",
       "      <th>3</th>\n",
       "      <td>2.0</td>\n",
       "      <td>2020-01-02 06:56:47.000</td>\n",
       "      <td>2020-01-02 07:03:03.000</td>\n",
       "      <td>N</td>\n",
       "      <td>1.0</td>\n",
       "      <td>74</td>\n",
       "      <td>75</td>\n",
       "      <td>1.0</td>\n",
       "      <td>1.43</td>\n",
       "      <td>6.5</td>\n",
       "      <td>0.0</td>\n",
       "      <td>0.5</td>\n",
       "      <td>0.0</td>\n",
       "      <td>0.0</td>\n",
       "      <td>0.3</td>\n",
       "      <td>7.3</td>\n",
       "      <td>2.0</td>\n",
       "      <td>1.0</td>\n",
       "      <td>0.0</td>\n",
       "    </tr>\n",
       "    <tr>\n",
       "      <th>4</th>\n",
       "      <td>2.0</td>\n",
       "      <td>2020-01-02 09:34:46.000</td>\n",
       "      <td>2020-01-02 09:41:02.000</td>\n",
       "      <td>N</td>\n",
       "      <td>1.0</td>\n",
       "      <td>74</td>\n",
       "      <td>75</td>\n",
       "      <td>1.0</td>\n",
       "      <td>1.10</td>\n",
       "      <td>6.5</td>\n",
       "      <td>0.0</td>\n",
       "      <td>0.5</td>\n",
       "      <td>0.0</td>\n",
       "      <td>0.0</td>\n",
       "      <td>0.3</td>\n",
       "      <td>7.3</td>\n",
       "      <td>2.0</td>\n",
       "      <td>1.0</td>\n",
       "      <td>0.0</td>\n",
       "    </tr>\n",
       "  </tbody>\n",
       "</table>\n",
       "</div>"
      ],
      "text/plain": [
       "   VendorID     lpep_pickup_datetime    lpep_dropoff_datetime  \\\n",
       "0       2.0  2020-01-01 06:47:28.000  2020-01-01 06:52:54.000   \n",
       "1       2.0  2020-01-01 13:25:34.000  2020-01-01 13:30:43.000   \n",
       "2       2.0  2020-01-01 14:20:35.000  2020-01-01 14:26:25.000   \n",
       "3       2.0  2020-01-02 06:56:47.000  2020-01-02 07:03:03.000   \n",
       "4       2.0  2020-01-02 09:34:46.000  2020-01-02 09:41:02.000   \n",
       "\n",
       "  store_and_fwd_flag  RatecodeID  PULocationID  DOLocationID  passenger_count  \\\n",
       "0                  N         1.0            74            75              1.0   \n",
       "1                  N         1.0            74            75              1.0   \n",
       "2                  N         1.0            74            75              1.0   \n",
       "3                  N         1.0            74            75              1.0   \n",
       "4                  N         1.0            74            75              1.0   \n",
       "\n",
       "   trip_distance  fare_amount  extra  mta_tax  tip_amount  tolls_amount  \\\n",
       "0           1.47          6.5    0.0      0.5         0.0           0.0   \n",
       "1           1.49          6.5    0.0      0.5         0.0           0.0   \n",
       "2           1.31          6.5    0.0      0.5         0.0           0.0   \n",
       "3           1.43          6.5    0.0      0.5         0.0           0.0   \n",
       "4           1.10          6.5    0.0      0.5         0.0           0.0   \n",
       "\n",
       "   improvement_surcharge  total_amount  payment_type  trip_type  \\\n",
       "0                    0.3           7.3           2.0        1.0   \n",
       "1                    0.3           7.3           2.0        1.0   \n",
       "2                    0.3           7.3           2.0        1.0   \n",
       "3                    0.3           7.3           2.0        1.0   \n",
       "4                    0.3           7.3           2.0        1.0   \n",
       "\n",
       "   congestion_surcharge  \n",
       "0                   0.0  \n",
       "1                   0.0  \n",
       "2                   0.0  \n",
       "3                   0.0  \n",
       "4                   0.0  "
      ]
     },
     "execution_count": 3,
     "metadata": {},
     "output_type": "execute_result"
    }
   ],
   "source": [
    "trips_2020.head()"
   ]
  },
  {
   "cell_type": "code",
   "execution_count": 4,
   "id": "94fffa34-852a-4dfc-aa58-f8b48ecbc74e",
   "metadata": {},
   "outputs": [
    {
     "name": "stdout",
     "output_type": "stream",
     "text": [
      "<class 'pandas.core.frame.DataFrame'>\n",
      "RangeIndex: 1734051 entries, 0 to 1734050\n",
      "Data columns (total 19 columns):\n",
      " #   Column                 Dtype  \n",
      "---  ------                 -----  \n",
      " 0   VendorID               float64\n",
      " 1   lpep_pickup_datetime   object \n",
      " 2   lpep_dropoff_datetime  object \n",
      " 3   store_and_fwd_flag     object \n",
      " 4   RatecodeID             float64\n",
      " 5   PULocationID           int64  \n",
      " 6   DOLocationID           int64  \n",
      " 7   passenger_count        float64\n",
      " 8   trip_distance          float64\n",
      " 9   fare_amount            float64\n",
      " 10  extra                  float64\n",
      " 11  mta_tax                float64\n",
      " 12  tip_amount             float64\n",
      " 13  tolls_amount           float64\n",
      " 14  improvement_surcharge  float64\n",
      " 15  total_amount           float64\n",
      " 16  payment_type           float64\n",
      " 17  trip_type              float64\n",
      " 18  congestion_surcharge   float64\n",
      "dtypes: float64(14), int64(2), object(3)\n",
      "memory usage: 251.4+ MB\n"
     ]
    }
   ],
   "source": [
    "# get information about the data\n",
    "trips_2020.info()"
   ]
  },
  {
   "cell_type": "code",
   "execution_count": 13,
   "id": "6a40a2d5-7df0-4fef-8e21-228030aecc64",
   "metadata": {},
   "outputs": [
    {
     "data": {
      "text/plain": [
       "VendorID                 30.454237\n",
       "lpep_pickup_datetime      0.000000\n",
       "lpep_dropoff_datetime     0.000000\n",
       "store_and_fwd_flag       30.454237\n",
       "RatecodeID               30.454237\n",
       "PULocationID              0.000000\n",
       "DOLocationID              0.000000\n",
       "passenger_count          30.454237\n",
       "trip_distance             0.000000\n",
       "fare_amount               0.000000\n",
       "extra                     0.000000\n",
       "mta_tax                   0.000000\n",
       "tip_amount                0.000000\n",
       "tolls_amount              0.000000\n",
       "improvement_surcharge     0.000000\n",
       "total_amount              0.000000\n",
       "payment_type             30.454237\n",
       "trip_type                30.454525\n",
       "congestion_surcharge     30.454237\n",
       "dtype: float64"
      ]
     },
     "execution_count": 13,
     "metadata": {},
     "output_type": "execute_result"
    }
   ],
   "source": [
    "# get percentage of missing data\n",
    "# trips_2020.isna().sum()\n",
    "trips_2020.isna().mean() * 100"
   ]
  },
  {
   "cell_type": "code",
   "execution_count": null,
   "id": "c7ec588c-b397-4298-bf41-6b6f8a330e7c",
   "metadata": {},
   "outputs": [],
   "source": [
    "# get data types of all columns\n",
    "trips_2020.dtypes"
   ]
  },
  {
   "cell_type": "code",
   "execution_count": 24,
   "id": "429f29d2-32db-4970-97f6-01fc2bb6f415",
   "metadata": {},
   "outputs": [
    {
     "name": "stdout",
     "output_type": "stream",
     "text": [
      "----------------------------------------VendorID---------------------------------------- - "
     ]
    },
    {
     "data": {
      "text/plain": [
       "2.0    1000743\n",
       "1.0     205216\n",
       "Name: VendorID, dtype: int64"
      ]
     },
     "metadata": {},
     "output_type": "display_data"
    },
    {
     "name": "stdout",
     "output_type": "stream",
     "text": [
      "----------------------------------------lpep_pickup_datetime---------------------------------------- - "
     ]
    },
    {
     "data": {
      "text/plain": [
       "2020-01-09 15:25:00.000    27\n",
       "2020-01-09 09:56:00.000    26\n",
       "2020-01-08 08:14:00.000    26\n",
       "2020-01-03 14:27:00.000    26\n",
       "2020-01-07 16:00:00.000    25\n",
       "2020-01-06 09:00:00.000    24\n",
       "2020-01-07 10:53:00.000    24\n",
       "2020-01-07 10:25:00.000    24\n",
       "2020-01-07 14:56:00.000    24\n",
       "2020-01-08 16:12:00.000    24\n",
       "Name: lpep_pickup_datetime, dtype: int64"
      ]
     },
     "metadata": {},
     "output_type": "display_data"
    },
    {
     "name": "stdout",
     "output_type": "stream",
     "text": [
      "----------------------------------------lpep_dropoff_datetime---------------------------------------- - "
     ]
    },
    {
     "data": {
      "text/plain": [
       "2020-01-09 11:10:00.000    26\n",
       "2020-01-09 10:15:00.000    26\n",
       "2020-01-08 11:08:00.000    24\n",
       "2020-01-03 00:00:00.000    24\n",
       "2020-01-10 10:10:00.000    24\n",
       "2020-01-09 09:45:00.000    23\n",
       "2020-01-09 12:20:00.000    23\n",
       "2020-01-08 11:04:00.000    23\n",
       "2020-01-07 11:39:00.000    23\n",
       "2020-01-09 08:56:00.000    22\n",
       "Name: lpep_dropoff_datetime, dtype: int64"
      ]
     },
     "metadata": {},
     "output_type": "display_data"
    },
    {
     "name": "stdout",
     "output_type": "stream",
     "text": [
      "----------------------------------------store_and_fwd_flag---------------------------------------- - "
     ]
    },
    {
     "data": {
      "text/plain": [
       "N    1201260\n",
       "Y       4699\n",
       "Name: store_and_fwd_flag, dtype: int64"
      ]
     },
     "metadata": {},
     "output_type": "display_data"
    },
    {
     "name": "stdout",
     "output_type": "stream",
     "text": [
      "----------------------------------------RatecodeID---------------------------------------- - "
     ]
    },
    {
     "data": {
      "text/plain": [
       "1.0     1168389\n",
       "5.0       33853\n",
       "2.0        2185\n",
       "4.0         954\n",
       "3.0         558\n",
       "6.0          12\n",
       "99.0          8\n",
       "Name: RatecodeID, dtype: int64"
      ]
     },
     "metadata": {},
     "output_type": "display_data"
    },
    {
     "name": "stdout",
     "output_type": "stream",
     "text": [
      "----------------------------------------PULocationID---------------------------------------- - "
     ]
    },
    {
     "data": {
      "text/plain": [
       "74     144491\n",
       "75     125059\n",
       "41      98037\n",
       "42      70378\n",
       "166     55896\n",
       "82      53352\n",
       "244     49254\n",
       "95      48890\n",
       "97      47966\n",
       "7       46945\n",
       "Name: PULocationID, dtype: int64"
      ]
     },
     "metadata": {},
     "output_type": "display_data"
    },
    {
     "name": "stdout",
     "output_type": "stream",
     "text": [
      "----------------------------------------DOLocationID---------------------------------------- - "
     ]
    },
    {
     "data": {
      "text/plain": [
       "74     70585\n",
       "42     66605\n",
       "75     57379\n",
       "41     55411\n",
       "166    32768\n",
       "129    29626\n",
       "7      28831\n",
       "61     27759\n",
       "236    27190\n",
       "238    26551\n",
       "Name: DOLocationID, dtype: int64"
      ]
     },
     "metadata": {},
     "output_type": "display_data"
    },
    {
     "name": "stdout",
     "output_type": "stream",
     "text": [
      "----------------------------------------passenger_count---------------------------------------- - "
     ]
    },
    {
     "data": {
      "text/plain": [
       "1.0    1048934\n",
       "2.0      81506\n",
       "5.0      30527\n",
       "6.0      20440\n",
       "3.0      15765\n",
       "4.0       5477\n",
       "0.0       3198\n",
       "8.0         57\n",
       "7.0         44\n",
       "9.0         11\n",
       "Name: passenger_count, dtype: int64"
      ]
     },
     "metadata": {},
     "output_type": "display_data"
    },
    {
     "name": "stdout",
     "output_type": "stream",
     "text": [
      "----------------------------------------trip_distance---------------------------------------- - "
     ]
    },
    {
     "data": {
      "text/plain": [
       "0.0    64475\n",
       "0.9    12136\n",
       "1.0    11865\n",
       "1.2    11427\n",
       "0.8    11388\n",
       "1.1    11338\n",
       "1.3    10952\n",
       "1.4    10773\n",
       "0.7    10246\n",
       "1.5     9373\n",
       "Name: trip_distance, dtype: int64"
      ]
     },
     "metadata": {},
     "output_type": "display_data"
    },
    {
     "name": "stdout",
     "output_type": "stream",
     "text": [
      "----------------------------------------fare_amount---------------------------------------- - "
     ]
    },
    {
     "data": {
      "text/plain": [
       "8.0    65745\n",
       "6.0    61774\n",
       "7.0    59791\n",
       "6.5    59109\n",
       "5.5    57226\n",
       "5.0    53691\n",
       "7.5    51883\n",
       "8.5    45022\n",
       "9.0    43221\n",
       "4.5    42041\n",
       "Name: fare_amount, dtype: int64"
      ]
     },
     "metadata": {},
     "output_type": "display_data"
    },
    {
     "name": "stdout",
     "output_type": "stream",
     "text": [
      "----------------------------------------extra---------------------------------------- - "
     ]
    },
    {
     "data": {
      "text/plain": [
       " 0.00    1039616\n",
       " 0.50     258703\n",
       " 1.00     238718\n",
       " 2.75     172262\n",
       " 5.50       8038\n",
       " 3.75       7285\n",
       " 3.25       6243\n",
       "-0.50       1080\n",
       "-1.00        770\n",
       " 8.25        564\n",
       "Name: extra, dtype: int64"
      ]
     },
     "metadata": {},
     "output_type": "display_data"
    },
    {
     "name": "stdout",
     "output_type": "stream",
     "text": [
      "----------------------------------------mta_tax---------------------------------------- - "
     ]
    },
    {
     "data": {
      "text/plain": [
       " 0.50    1210992\n",
       " 0.00     519061\n",
       "-0.50       3988\n",
       " 3.55          9\n",
       " 1.00          1\n",
       "Name: mta_tax, dtype: int64"
      ]
     },
     "metadata": {},
     "output_type": "display_data"
    },
    {
     "name": "stdout",
     "output_type": "stream",
     "text": [
      "----------------------------------------tip_amount---------------------------------------- - "
     ]
    },
    {
     "data": {
      "text/plain": [
       "0.00    946355\n",
       "2.75    262267\n",
       "1.00     39995\n",
       "2.00     30248\n",
       "3.00     12160\n",
       "1.46     10312\n",
       "1.66     10184\n",
       "1.56     10134\n",
       "1.36      9754\n",
       "1.26      8805\n",
       "Name: tip_amount, dtype: int64"
      ]
     },
     "metadata": {},
     "output_type": "display_data"
    },
    {
     "name": "stdout",
     "output_type": "stream",
     "text": [
      "----------------------------------------tolls_amount---------------------------------------- - "
     ]
    },
    {
     "data": {
      "text/plain": [
       "0.00     1619272\n",
       "6.12       95803\n",
       "2.29        5345\n",
       "2.80        4765\n",
       "12.24       4019\n",
       "8.41        1015\n",
       "5.76         687\n",
       "13.75        590\n",
       "11.75        476\n",
       "18.36        403\n",
       "Name: tolls_amount, dtype: int64"
      ]
     },
     "metadata": {},
     "output_type": "display_data"
    },
    {
     "name": "stdout",
     "output_type": "stream",
     "text": [
      "----------------------------------------improvement_surcharge---------------------------------------- - "
     ]
    },
    {
     "data": {
      "text/plain": [
       " 0.3    1699258\n",
       " 0.0      30585\n",
       "-0.3       4208\n",
       "Name: improvement_surcharge, dtype: int64"
      ]
     },
     "metadata": {},
     "output_type": "display_data"
    },
    {
     "name": "stdout",
     "output_type": "stream",
     "text": [
      "----------------------------------------total_amount---------------------------------------- - "
     ]
    },
    {
     "data": {
      "text/plain": [
       "8.3     43160\n",
       "7.3     35845\n",
       "7.8     35520\n",
       "6.8     34934\n",
       "6.3     31653\n",
       "8.8     31159\n",
       "9.3     28041\n",
       "5.8     27627\n",
       "9.8     26087\n",
       "10.3    25183\n",
       "Name: total_amount, dtype: int64"
      ]
     },
     "metadata": {},
     "output_type": "display_data"
    },
    {
     "name": "stdout",
     "output_type": "stream",
     "text": [
      "----------------------------------------payment_type---------------------------------------- - "
     ]
    },
    {
     "data": {
      "text/plain": [
       "1.0    663445\n",
       "2.0    532683\n",
       "3.0      7572\n",
       "4.0      2208\n",
       "5.0        51\n",
       "Name: payment_type, dtype: int64"
      ]
     },
     "metadata": {},
     "output_type": "display_data"
    },
    {
     "name": "stdout",
     "output_type": "stream",
     "text": [
      "----------------------------------------trip_type---------------------------------------- - "
     ]
    },
    {
     "data": {
      "text/plain": [
       "1.0    1174243\n",
       "2.0      31711\n",
       "Name: trip_type, dtype: int64"
      ]
     },
     "metadata": {},
     "output_type": "display_data"
    },
    {
     "name": "stdout",
     "output_type": "stream",
     "text": [
      "----------------------------------------congestion_surcharge---------------------------------------- - "
     ]
    },
    {
     "data": {
      "text/plain": [
       " 0.00    993526\n",
       " 2.75    211706\n",
       " 2.50       709\n",
       "-2.75        11\n",
       " 0.75         7\n",
       "Name: congestion_surcharge, dtype: int64"
      ]
     },
     "metadata": {},
     "output_type": "display_data"
    }
   ],
   "source": [
    "# get value counts of all columns\n",
    "for col in trips_2020.columns:\n",
    "    print('-' * 40 + col + '-' * 40 , end=' - ')\n",
    "    # print(trips_2020['x'].value_counts())\n",
    "    display(trips_2020[col].value_counts().head(10))"
   ]
  },
  {
   "cell_type": "code",
   "execution_count": null,
   "id": "65cc37c2-648c-4145-9135-8760d63ec8ae",
   "metadata": {},
   "outputs": [],
   "source": []
  }
 ],
 "metadata": {
  "kernelspec": {
   "display_name": "Python 3 (ipykernel)",
   "language": "python",
   "name": "python3"
  },
  "language_info": {
   "codemirror_mode": {
    "name": "ipython",
    "version": 3
   },
   "file_extension": ".py",
   "mimetype": "text/x-python",
   "name": "python",
   "nbconvert_exporter": "python",
   "pygments_lexer": "ipython3",
   "version": "3.9.16"
  }
 },
 "nbformat": 4,
 "nbformat_minor": 5
}
