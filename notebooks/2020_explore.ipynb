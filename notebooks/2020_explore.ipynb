{
 "cells": [
  {
   "cell_type": "markdown",
   "id": "48be161c-ae88-4f15-b6f7-610379c0546f",
   "metadata": {},
   "source": [
    "# 2020 Data"
   ]
  },
  {
   "cell_type": "code",
   "execution_count": null,
   "id": "aa512fa3-16c5-4756-bf51-045115edc0fa",
   "metadata": {},
   "outputs": [],
   "source": [
    "import pandas as pd\n",
    "import numpy as np\n",
    "\n",
    "# to bypass warnings\n",
    "import warnings\n",
    "warnings.filterwarnings('ignore')"
   ]
  },
  {
   "cell_type": "code",
   "execution_count": null,
   "id": "fc807708-130f-45a7-872c-a693a41fb580",
   "metadata": {},
   "outputs": [],
   "source": [
    "file_path = \"/home/dcti-02-11/projects/data/NYC_Taxi_Trips/data/2020_taxi_trips.csv\"\n",
    "\n",
    "trips_2020 = pd.read_csv(file_path)"
   ]
  },
  {
   "cell_type": "code",
   "execution_count": null,
   "id": "f57fd6d9-44ed-4d8f-9107-144946dbbe4e",
   "metadata": {},
   "outputs": [],
   "source": [
    "# get structure of the data\n",
    "trips_2020.shape"
   ]
  },
  {
   "cell_type": "code",
   "execution_count": null,
   "id": "3c044ddb-3de2-477e-8d43-f6c983feb4a5",
   "metadata": {},
   "outputs": [],
   "source": [
    "trips_2020.head()"
   ]
  },
  {
   "cell_type": "code",
   "execution_count": null,
   "id": "94fffa34-852a-4dfc-aa58-f8b48ecbc74e",
   "metadata": {},
   "outputs": [],
   "source": [
    "# get information about the data\n",
    "trips_2020.info()"
   ]
  },
  {
   "cell_type": "code",
   "execution_count": null,
   "id": "6a40a2d5-7df0-4fef-8e21-228030aecc64",
   "metadata": {},
   "outputs": [],
   "source": [
    "# get percentage of missing data\n",
    "# trips_2020.isna().sum()\n",
    "trips_2020.isna().mean() * 100"
   ]
  },
  {
   "cell_type": "markdown",
   "id": "071b704c-1774-453a-9a62-d9e7dad26248",
   "metadata": {},
   "source": [
    "# get data types of all columns\n",
    "trips_2020.dtypes"
   ]
  },
  {
   "cell_type": "code",
   "execution_count": null,
   "id": "429f29d2-32db-4970-97f6-01fc2bb6f415",
   "metadata": {},
   "outputs": [],
   "source": [
    "# get value counts of all columns\n",
    "for col in trips_2020.columns:\n",
    "    print('-' * 40 + col + '-' * 40 , end=' - ')\n",
    "    # print(trips_2020['x'].value_counts())\n",
    "    display(trips_2020[col].value_counts().head(10))"
   ]
  },
  {
   "cell_type": "code",
   "execution_count": null,
   "id": "d50d2018-04a7-4c2d-ae46-f43e70505b59",
   "metadata": {},
   "outputs": [],
   "source": [
    "# change from object to date_time\n",
    "trips_2020['lpep_pickup_datetime'] = pd.to_datetime(trips_2020['lpep_pickup_datetime'])\n",
    "trips_2020['lpep_dropoff_datetime'] = pd.to_datetime(trips_2020['lpep_dropoff_datetime'])"
   ]
  },
  {
   "cell_type": "code",
   "execution_count": null,
   "id": "d7feb15c-e04c-4320-a8f5-92e61e70e1d3",
   "metadata": {},
   "outputs": [],
   "source": [
    "trips_2020.info()"
   ]
  },
  {
   "cell_type": "code",
   "execution_count": null,
   "id": "65cc37c2-648c-4145-9135-8760d63ec8ae",
   "metadata": {},
   "outputs": [],
   "source": [
    "## working with time\n",
    "trips_2020['time_diff'] = trips_2020['lpep_dropoff_datetime'] - trips_2020['lpep_pickup_datetime']"
   ]
  },
  {
   "cell_type": "code",
   "execution_count": null,
   "id": "e2ee0eb3-a7b9-4b6a-b61f-c3c882c6eb76",
   "metadata": {},
   "outputs": [],
   "source": [
    "trips_2020.info()"
   ]
  },
  {
   "cell_type": "code",
   "execution_count": null,
   "id": "2880ef52-c31b-4a31-9d72-d93ba14095d7",
   "metadata": {},
   "outputs": [],
   "source": [
    "trips_2020.tail()"
   ]
  },
  {
   "cell_type": "code",
   "execution_count": null,
   "id": "5295c0ef-2c4f-43bc-9c52-12702d0926b5",
   "metadata": {},
   "outputs": [],
   "source": [
    "print(trips_2020['time_diff'].max())"
   ]
  },
  {
   "cell_type": "code",
   "execution_count": null,
   "id": "c21fb3c6-3f18-425a-a62e-f3ab63becdfa",
   "metadata": {},
   "outputs": [],
   "source": [
    "print(trips_2020['time_diff'].min())"
   ]
  },
  {
   "cell_type": "code",
   "execution_count": null,
   "id": "5df91a1f-35d0-42a4-8c77-349c248c2372",
   "metadata": {},
   "outputs": [],
   "source": [
    "max_row = trips_2020.loc[trips_2020['time_diff'].idxmax()]\n",
    "print(max_row)"
   ]
  },
  {
   "cell_type": "code",
   "execution_count": null,
   "id": "55458585-09c6-4e81-a8c1-fb1932a73687",
   "metadata": {},
   "outputs": [],
   "source": [
    "min_row = trips_2020.loc[trips_2020['time_diff'].idxmin()]\n",
    "print(min_row)"
   ]
  },
  {
   "cell_type": "code",
   "execution_count": null,
   "id": "4753e6b3-0a77-4757-acd7-c0603f9b2541",
   "metadata": {},
   "outputs": [],
   "source": []
  }
 ],
 "metadata": {
  "kernelspec": {
   "display_name": "Python 3 (ipykernel)",
   "language": "python",
   "name": "python3"
  },
  "language_info": {
   "codemirror_mode": {
    "name": "ipython",
    "version": 3
   },
   "file_extension": ".py",
   "mimetype": "text/x-python",
   "name": "python",
   "nbconvert_exporter": "python",
   "pygments_lexer": "ipython3",
   "version": "3.9.16"
  }
 },
 "nbformat": 4,
 "nbformat_minor": 5
}
