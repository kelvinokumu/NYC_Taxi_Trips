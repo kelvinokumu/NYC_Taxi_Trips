{
 "cells": [
  {
   "cell_type": "code",
   "execution_count": 1,
   "id": "0b6f4a92-e2b6-41a8-b0e5-848356979df3",
   "metadata": {},
   "outputs": [],
   "source": [
    "import pandas as pd\n",
    "import numpy as np\n",
    "import matplotlib.pyplot as plt\n",
    "import seaborn as sns\n",
    "from sklearn.cluster import KMeans\n",
    "\n",
    "# to bypass warnings\n",
    "import warnings\n",
    "warnings.filterwarnings('ignore')"
   ]
  },
  {
   "cell_type": "code",
   "execution_count": 2,
   "id": "99730652-25f0-4b4f-8a80-8555c3224743",
   "metadata": {},
   "outputs": [],
   "source": [
    "file_path = \"/home/dcti-02-11/projects/data/NYC_Taxi_Trips/data/2020_taxi_trips.csv\"\n",
    "\n",
    "trips_2020 = pd.read_csv(file_path)"
   ]
  },
  {
   "cell_type": "code",
   "execution_count": 3,
   "id": "4f3f3b94-7ff9-4cff-a499-506d9397b4bf",
   "metadata": {},
   "outputs": [
    {
     "data": {
      "text/html": [
       "<div>\n",
       "<style scoped>\n",
       "    .dataframe tbody tr th:only-of-type {\n",
       "        vertical-align: middle;\n",
       "    }\n",
       "\n",
       "    .dataframe tbody tr th {\n",
       "        vertical-align: top;\n",
       "    }\n",
       "\n",
       "    .dataframe thead th {\n",
       "        text-align: right;\n",
       "    }\n",
       "</style>\n",
       "<table border=\"1\" class=\"dataframe\">\n",
       "  <thead>\n",
       "    <tr style=\"text-align: right;\">\n",
       "      <th></th>\n",
       "      <th>VendorID</th>\n",
       "      <th>RatecodeID</th>\n",
       "      <th>PULocationID</th>\n",
       "      <th>DOLocationID</th>\n",
       "      <th>passenger_count</th>\n",
       "      <th>trip_distance</th>\n",
       "      <th>fare_amount</th>\n",
       "      <th>extra</th>\n",
       "      <th>mta_tax</th>\n",
       "      <th>tip_amount</th>\n",
       "      <th>tolls_amount</th>\n",
       "      <th>improvement_surcharge</th>\n",
       "      <th>total_amount</th>\n",
       "      <th>payment_type</th>\n",
       "      <th>trip_type</th>\n",
       "      <th>congestion_surcharge</th>\n",
       "    </tr>\n",
       "  </thead>\n",
       "  <tbody>\n",
       "    <tr>\n",
       "      <th>count</th>\n",
       "      <td>1.205959e+06</td>\n",
       "      <td>1.205959e+06</td>\n",
       "      <td>1.734051e+06</td>\n",
       "      <td>1.734051e+06</td>\n",
       "      <td>1.205959e+06</td>\n",
       "      <td>1.734051e+06</td>\n",
       "      <td>1.734051e+06</td>\n",
       "      <td>1.734051e+06</td>\n",
       "      <td>1.734051e+06</td>\n",
       "      <td>1.734051e+06</td>\n",
       "      <td>1.734051e+06</td>\n",
       "      <td>1.734051e+06</td>\n",
       "      <td>1.734051e+06</td>\n",
       "      <td>1.205959e+06</td>\n",
       "      <td>1.205954e+06</td>\n",
       "      <td>1.205959e+06</td>\n",
       "    </tr>\n",
       "    <tr>\n",
       "      <th>mean</th>\n",
       "      <td>1.829832e+00</td>\n",
       "      <td>1.118096e+00</td>\n",
       "      <td>1.082483e+02</td>\n",
       "      <td>1.287863e+02</td>\n",
       "      <td>1.291327e+00</td>\n",
       "      <td>1.729224e+01</td>\n",
       "      <td>1.698479e+01</td>\n",
       "      <td>5.418312e-01</td>\n",
       "      <td>3.480491e-01</td>\n",
       "      <td>1.263318e+00</td>\n",
       "      <td>4.129915e-01</td>\n",
       "      <td>2.932526e-01</td>\n",
       "      <td>2.016313e+01</td>\n",
       "      <td>1.459929e+00</td>\n",
       "      <td>1.026295e+00</td>\n",
       "      <td>4.842113e-01</td>\n",
       "    </tr>\n",
       "    <tr>\n",
       "      <th>std</th>\n",
       "      <td>3.757807e-01</td>\n",
       "      <td>7.140995e-01</td>\n",
       "      <td>7.080140e+01</td>\n",
       "      <td>7.642577e+01</td>\n",
       "      <td>9.547199e-01</td>\n",
       "      <td>1.198165e+03</td>\n",
       "      <td>1.380515e+01</td>\n",
       "      <td>9.482827e-01</td>\n",
       "      <td>2.325786e-01</td>\n",
       "      <td>2.228201e+00</td>\n",
       "      <td>1.659563e+00</td>\n",
       "      <td>4.914765e-02</td>\n",
       "      <td>1.527308e+01</td>\n",
       "      <td>5.219627e-01</td>\n",
       "      <td>1.600123e-01</td>\n",
       "      <td>1.047322e+00</td>\n",
       "    </tr>\n",
       "    <tr>\n",
       "      <th>min</th>\n",
       "      <td>1.000000e+00</td>\n",
       "      <td>1.000000e+00</td>\n",
       "      <td>1.000000e+00</td>\n",
       "      <td>1.000000e+00</td>\n",
       "      <td>0.000000e+00</td>\n",
       "      <td>-3.369000e+01</td>\n",
       "      <td>-2.100000e+02</td>\n",
       "      <td>-4.500000e+00</td>\n",
       "      <td>-5.000000e-01</td>\n",
       "      <td>-1.056000e+01</td>\n",
       "      <td>-6.120000e+00</td>\n",
       "      <td>-3.000000e-01</td>\n",
       "      <td>-2.103000e+02</td>\n",
       "      <td>1.000000e+00</td>\n",
       "      <td>1.000000e+00</td>\n",
       "      <td>-2.750000e+00</td>\n",
       "    </tr>\n",
       "    <tr>\n",
       "      <th>25%</th>\n",
       "      <td>2.000000e+00</td>\n",
       "      <td>1.000000e+00</td>\n",
       "      <td>5.200000e+01</td>\n",
       "      <td>6.300000e+01</td>\n",
       "      <td>1.000000e+00</td>\n",
       "      <td>1.130000e+00</td>\n",
       "      <td>7.500000e+00</td>\n",
       "      <td>0.000000e+00</td>\n",
       "      <td>0.000000e+00</td>\n",
       "      <td>0.000000e+00</td>\n",
       "      <td>0.000000e+00</td>\n",
       "      <td>3.000000e-01</td>\n",
       "      <td>9.360000e+00</td>\n",
       "      <td>1.000000e+00</td>\n",
       "      <td>1.000000e+00</td>\n",
       "      <td>0.000000e+00</td>\n",
       "    </tr>\n",
       "    <tr>\n",
       "      <th>50%</th>\n",
       "      <td>2.000000e+00</td>\n",
       "      <td>1.000000e+00</td>\n",
       "      <td>8.100000e+01</td>\n",
       "      <td>1.270000e+02</td>\n",
       "      <td>1.000000e+00</td>\n",
       "      <td>2.210000e+00</td>\n",
       "      <td>1.250000e+01</td>\n",
       "      <td>0.000000e+00</td>\n",
       "      <td>5.000000e-01</td>\n",
       "      <td>0.000000e+00</td>\n",
       "      <td>0.000000e+00</td>\n",
       "      <td>3.000000e-01</td>\n",
       "      <td>1.570000e+01</td>\n",
       "      <td>1.000000e+00</td>\n",
       "      <td>1.000000e+00</td>\n",
       "      <td>0.000000e+00</td>\n",
       "    </tr>\n",
       "    <tr>\n",
       "      <th>75%</th>\n",
       "      <td>2.000000e+00</td>\n",
       "      <td>1.000000e+00</td>\n",
       "      <td>1.660000e+02</td>\n",
       "      <td>1.930000e+02</td>\n",
       "      <td>1.000000e+00</td>\n",
       "      <td>4.870000e+00</td>\n",
       "      <td>2.211000e+01</td>\n",
       "      <td>1.000000e+00</td>\n",
       "      <td>5.000000e-01</td>\n",
       "      <td>2.750000e+00</td>\n",
       "      <td>0.000000e+00</td>\n",
       "      <td>3.000000e-01</td>\n",
       "      <td>2.600000e+01</td>\n",
       "      <td>2.000000e+00</td>\n",
       "      <td>1.000000e+00</td>\n",
       "      <td>0.000000e+00</td>\n",
       "    </tr>\n",
       "    <tr>\n",
       "      <th>max</th>\n",
       "      <td>2.000000e+00</td>\n",
       "      <td>9.900000e+01</td>\n",
       "      <td>2.650000e+02</td>\n",
       "      <td>2.650000e+02</td>\n",
       "      <td>9.000000e+00</td>\n",
       "      <td>2.056541e+05</td>\n",
       "      <td>8.030000e+02</td>\n",
       "      <td>1.674000e+01</td>\n",
       "      <td>3.550000e+00</td>\n",
       "      <td>6.412000e+02</td>\n",
       "      <td>9.612000e+01</td>\n",
       "      <td>3.000000e-01</td>\n",
       "      <td>8.038000e+02</td>\n",
       "      <td>5.000000e+00</td>\n",
       "      <td>2.000000e+00</td>\n",
       "      <td>2.750000e+00</td>\n",
       "    </tr>\n",
       "  </tbody>\n",
       "</table>\n",
       "</div>"
      ],
      "text/plain": [
       "           VendorID    RatecodeID  PULocationID  DOLocationID  \\\n",
       "count  1.205959e+06  1.205959e+06  1.734051e+06  1.734051e+06   \n",
       "mean   1.829832e+00  1.118096e+00  1.082483e+02  1.287863e+02   \n",
       "std    3.757807e-01  7.140995e-01  7.080140e+01  7.642577e+01   \n",
       "min    1.000000e+00  1.000000e+00  1.000000e+00  1.000000e+00   \n",
       "25%    2.000000e+00  1.000000e+00  5.200000e+01  6.300000e+01   \n",
       "50%    2.000000e+00  1.000000e+00  8.100000e+01  1.270000e+02   \n",
       "75%    2.000000e+00  1.000000e+00  1.660000e+02  1.930000e+02   \n",
       "max    2.000000e+00  9.900000e+01  2.650000e+02  2.650000e+02   \n",
       "\n",
       "       passenger_count  trip_distance   fare_amount         extra  \\\n",
       "count     1.205959e+06   1.734051e+06  1.734051e+06  1.734051e+06   \n",
       "mean      1.291327e+00   1.729224e+01  1.698479e+01  5.418312e-01   \n",
       "std       9.547199e-01   1.198165e+03  1.380515e+01  9.482827e-01   \n",
       "min       0.000000e+00  -3.369000e+01 -2.100000e+02 -4.500000e+00   \n",
       "25%       1.000000e+00   1.130000e+00  7.500000e+00  0.000000e+00   \n",
       "50%       1.000000e+00   2.210000e+00  1.250000e+01  0.000000e+00   \n",
       "75%       1.000000e+00   4.870000e+00  2.211000e+01  1.000000e+00   \n",
       "max       9.000000e+00   2.056541e+05  8.030000e+02  1.674000e+01   \n",
       "\n",
       "            mta_tax    tip_amount  tolls_amount  improvement_surcharge  \\\n",
       "count  1.734051e+06  1.734051e+06  1.734051e+06           1.734051e+06   \n",
       "mean   3.480491e-01  1.263318e+00  4.129915e-01           2.932526e-01   \n",
       "std    2.325786e-01  2.228201e+00  1.659563e+00           4.914765e-02   \n",
       "min   -5.000000e-01 -1.056000e+01 -6.120000e+00          -3.000000e-01   \n",
       "25%    0.000000e+00  0.000000e+00  0.000000e+00           3.000000e-01   \n",
       "50%    5.000000e-01  0.000000e+00  0.000000e+00           3.000000e-01   \n",
       "75%    5.000000e-01  2.750000e+00  0.000000e+00           3.000000e-01   \n",
       "max    3.550000e+00  6.412000e+02  9.612000e+01           3.000000e-01   \n",
       "\n",
       "       total_amount  payment_type     trip_type  congestion_surcharge  \n",
       "count  1.734051e+06  1.205959e+06  1.205954e+06          1.205959e+06  \n",
       "mean   2.016313e+01  1.459929e+00  1.026295e+00          4.842113e-01  \n",
       "std    1.527308e+01  5.219627e-01  1.600123e-01          1.047322e+00  \n",
       "min   -2.103000e+02  1.000000e+00  1.000000e+00         -2.750000e+00  \n",
       "25%    9.360000e+00  1.000000e+00  1.000000e+00          0.000000e+00  \n",
       "50%    1.570000e+01  1.000000e+00  1.000000e+00          0.000000e+00  \n",
       "75%    2.600000e+01  2.000000e+00  1.000000e+00          0.000000e+00  \n",
       "max    8.038000e+02  5.000000e+00  2.000000e+00          2.750000e+00  "
      ]
     },
     "execution_count": 3,
     "metadata": {},
     "output_type": "execute_result"
    }
   ],
   "source": [
    "trips_2020.describe()"
   ]
  },
  {
   "cell_type": "code",
   "execution_count": 4,
   "id": "1dfbf385-5298-45b9-92b8-e15ef3e91df5",
   "metadata": {},
   "outputs": [
    {
     "data": {
      "text/html": [
       "<div>\n",
       "<style scoped>\n",
       "    .dataframe tbody tr th:only-of-type {\n",
       "        vertical-align: middle;\n",
       "    }\n",
       "\n",
       "    .dataframe tbody tr th {\n",
       "        vertical-align: top;\n",
       "    }\n",
       "\n",
       "    .dataframe thead th {\n",
       "        text-align: right;\n",
       "    }\n",
       "</style>\n",
       "<table border=\"1\" class=\"dataframe\">\n",
       "  <thead>\n",
       "    <tr style=\"text-align: right;\">\n",
       "      <th></th>\n",
       "      <th>VendorID</th>\n",
       "      <th>lpep_pickup_datetime</th>\n",
       "      <th>lpep_dropoff_datetime</th>\n",
       "      <th>store_and_fwd_flag</th>\n",
       "      <th>RatecodeID</th>\n",
       "      <th>PULocationID</th>\n",
       "      <th>DOLocationID</th>\n",
       "      <th>passenger_count</th>\n",
       "      <th>trip_distance</th>\n",
       "      <th>fare_amount</th>\n",
       "      <th>extra</th>\n",
       "      <th>mta_tax</th>\n",
       "      <th>tip_amount</th>\n",
       "      <th>tolls_amount</th>\n",
       "      <th>improvement_surcharge</th>\n",
       "      <th>total_amount</th>\n",
       "      <th>payment_type</th>\n",
       "      <th>trip_type</th>\n",
       "      <th>congestion_surcharge</th>\n",
       "    </tr>\n",
       "  </thead>\n",
       "  <tbody>\n",
       "    <tr>\n",
       "      <th>0</th>\n",
       "      <td>2.0</td>\n",
       "      <td>2020-01-01 06:47:28.000</td>\n",
       "      <td>2020-01-01 06:52:54.000</td>\n",
       "      <td>N</td>\n",
       "      <td>1.0</td>\n",
       "      <td>74</td>\n",
       "      <td>75</td>\n",
       "      <td>1.0</td>\n",
       "      <td>1.47</td>\n",
       "      <td>6.5</td>\n",
       "      <td>0.0</td>\n",
       "      <td>0.5</td>\n",
       "      <td>0.0</td>\n",
       "      <td>0.0</td>\n",
       "      <td>0.3</td>\n",
       "      <td>7.3</td>\n",
       "      <td>2.0</td>\n",
       "      <td>1.0</td>\n",
       "      <td>0.0</td>\n",
       "    </tr>\n",
       "    <tr>\n",
       "      <th>1</th>\n",
       "      <td>2.0</td>\n",
       "      <td>2020-01-01 13:25:34.000</td>\n",
       "      <td>2020-01-01 13:30:43.000</td>\n",
       "      <td>N</td>\n",
       "      <td>1.0</td>\n",
       "      <td>74</td>\n",
       "      <td>75</td>\n",
       "      <td>1.0</td>\n",
       "      <td>1.49</td>\n",
       "      <td>6.5</td>\n",
       "      <td>0.0</td>\n",
       "      <td>0.5</td>\n",
       "      <td>0.0</td>\n",
       "      <td>0.0</td>\n",
       "      <td>0.3</td>\n",
       "      <td>7.3</td>\n",
       "      <td>2.0</td>\n",
       "      <td>1.0</td>\n",
       "      <td>0.0</td>\n",
       "    </tr>\n",
       "    <tr>\n",
       "      <th>2</th>\n",
       "      <td>2.0</td>\n",
       "      <td>2020-01-01 14:20:35.000</td>\n",
       "      <td>2020-01-01 14:26:25.000</td>\n",
       "      <td>N</td>\n",
       "      <td>1.0</td>\n",
       "      <td>74</td>\n",
       "      <td>75</td>\n",
       "      <td>1.0</td>\n",
       "      <td>1.31</td>\n",
       "      <td>6.5</td>\n",
       "      <td>0.0</td>\n",
       "      <td>0.5</td>\n",
       "      <td>0.0</td>\n",
       "      <td>0.0</td>\n",
       "      <td>0.3</td>\n",
       "      <td>7.3</td>\n",
       "      <td>2.0</td>\n",
       "      <td>1.0</td>\n",
       "      <td>0.0</td>\n",
       "    </tr>\n",
       "    <tr>\n",
       "      <th>3</th>\n",
       "      <td>2.0</td>\n",
       "      <td>2020-01-02 06:56:47.000</td>\n",
       "      <td>2020-01-02 07:03:03.000</td>\n",
       "      <td>N</td>\n",
       "      <td>1.0</td>\n",
       "      <td>74</td>\n",
       "      <td>75</td>\n",
       "      <td>1.0</td>\n",
       "      <td>1.43</td>\n",
       "      <td>6.5</td>\n",
       "      <td>0.0</td>\n",
       "      <td>0.5</td>\n",
       "      <td>0.0</td>\n",
       "      <td>0.0</td>\n",
       "      <td>0.3</td>\n",
       "      <td>7.3</td>\n",
       "      <td>2.0</td>\n",
       "      <td>1.0</td>\n",
       "      <td>0.0</td>\n",
       "    </tr>\n",
       "    <tr>\n",
       "      <th>4</th>\n",
       "      <td>2.0</td>\n",
       "      <td>2020-01-02 09:34:46.000</td>\n",
       "      <td>2020-01-02 09:41:02.000</td>\n",
       "      <td>N</td>\n",
       "      <td>1.0</td>\n",
       "      <td>74</td>\n",
       "      <td>75</td>\n",
       "      <td>1.0</td>\n",
       "      <td>1.10</td>\n",
       "      <td>6.5</td>\n",
       "      <td>0.0</td>\n",
       "      <td>0.5</td>\n",
       "      <td>0.0</td>\n",
       "      <td>0.0</td>\n",
       "      <td>0.3</td>\n",
       "      <td>7.3</td>\n",
       "      <td>2.0</td>\n",
       "      <td>1.0</td>\n",
       "      <td>0.0</td>\n",
       "    </tr>\n",
       "  </tbody>\n",
       "</table>\n",
       "</div>"
      ],
      "text/plain": [
       "   VendorID     lpep_pickup_datetime    lpep_dropoff_datetime  \\\n",
       "0       2.0  2020-01-01 06:47:28.000  2020-01-01 06:52:54.000   \n",
       "1       2.0  2020-01-01 13:25:34.000  2020-01-01 13:30:43.000   \n",
       "2       2.0  2020-01-01 14:20:35.000  2020-01-01 14:26:25.000   \n",
       "3       2.0  2020-01-02 06:56:47.000  2020-01-02 07:03:03.000   \n",
       "4       2.0  2020-01-02 09:34:46.000  2020-01-02 09:41:02.000   \n",
       "\n",
       "  store_and_fwd_flag  RatecodeID  PULocationID  DOLocationID  passenger_count  \\\n",
       "0                  N         1.0            74            75              1.0   \n",
       "1                  N         1.0            74            75              1.0   \n",
       "2                  N         1.0            74            75              1.0   \n",
       "3                  N         1.0            74            75              1.0   \n",
       "4                  N         1.0            74            75              1.0   \n",
       "\n",
       "   trip_distance  fare_amount  extra  mta_tax  tip_amount  tolls_amount  \\\n",
       "0           1.47          6.5    0.0      0.5         0.0           0.0   \n",
       "1           1.49          6.5    0.0      0.5         0.0           0.0   \n",
       "2           1.31          6.5    0.0      0.5         0.0           0.0   \n",
       "3           1.43          6.5    0.0      0.5         0.0           0.0   \n",
       "4           1.10          6.5    0.0      0.5         0.0           0.0   \n",
       "\n",
       "   improvement_surcharge  total_amount  payment_type  trip_type  \\\n",
       "0                    0.3           7.3           2.0        1.0   \n",
       "1                    0.3           7.3           2.0        1.0   \n",
       "2                    0.3           7.3           2.0        1.0   \n",
       "3                    0.3           7.3           2.0        1.0   \n",
       "4                    0.3           7.3           2.0        1.0   \n",
       "\n",
       "   congestion_surcharge  \n",
       "0                   0.0  \n",
       "1                   0.0  \n",
       "2                   0.0  \n",
       "3                   0.0  \n",
       "4                   0.0  "
      ]
     },
     "execution_count": 4,
     "metadata": {},
     "output_type": "execute_result"
    }
   ],
   "source": [
    "trips_2020.head()"
   ]
  },
  {
   "cell_type": "code",
   "execution_count": 5,
   "id": "10317ad6-fb59-4bbf-ae59-69eb363344fd",
   "metadata": {},
   "outputs": [
    {
     "name": "stdout",
     "output_type": "stream",
     "text": [
      "<class 'pandas.core.frame.DataFrame'>\n",
      "RangeIndex: 1734051 entries, 0 to 1734050\n",
      "Data columns (total 19 columns):\n",
      " #   Column                 Dtype  \n",
      "---  ------                 -----  \n",
      " 0   VendorID               float64\n",
      " 1   lpep_pickup_datetime   object \n",
      " 2   lpep_dropoff_datetime  object \n",
      " 3   store_and_fwd_flag     object \n",
      " 4   RatecodeID             float64\n",
      " 5   PULocationID           int64  \n",
      " 6   DOLocationID           int64  \n",
      " 7   passenger_count        float64\n",
      " 8   trip_distance          float64\n",
      " 9   fare_amount            float64\n",
      " 10  extra                  float64\n",
      " 11  mta_tax                float64\n",
      " 12  tip_amount             float64\n",
      " 13  tolls_amount           float64\n",
      " 14  improvement_surcharge  float64\n",
      " 15  total_amount           float64\n",
      " 16  payment_type           float64\n",
      " 17  trip_type              float64\n",
      " 18  congestion_surcharge   float64\n",
      "dtypes: float64(14), int64(2), object(3)\n",
      "memory usage: 251.4+ MB\n"
     ]
    }
   ],
   "source": [
    "trips_2020.info()"
   ]
  },
  {
   "cell_type": "code",
   "execution_count": 6,
   "id": "e597467a-9fbb-4dbd-b1dc-8bfeb5f4e18c",
   "metadata": {},
   "outputs": [
    {
     "name": "stdout",
     "output_type": "stream",
     "text": [
      "VendorID - 0.30454236928440975\n",
      "lpep_pickup_datetime - 0.0\n",
      "lpep_dropoff_datetime - 0.0\n",
      "store_and_fwd_flag - 0.30454236928440975\n",
      "RatecodeID - 0.30454236928440975\n",
      "PULocationID - 0.0\n",
      "DOLocationID - 0.0\n",
      "passenger_count - 0.30454236928440975\n",
      "trip_distance - 0.0\n",
      "fare_amount - 0.0\n",
      "extra - 0.0\n",
      "mta_tax - 0.0\n",
      "tip_amount - 0.0\n",
      "tolls_amount - 0.0\n",
      "improvement_surcharge - 0.0\n",
      "total_amount - 0.0\n",
      "payment_type - 0.30454236928440975\n",
      "trip_type - 0.30454525270594696\n",
      "congestion_surcharge - 0.30454236928440975\n"
     ]
    }
   ],
   "source": [
    "# get percentage of missing values\n",
    "for col in trips_2020.columns:\n",
    "    pct_missing = np.mean(trips_2020[col].isnull())\n",
    "    print(f\"{col} - {pct_missing}\")"
   ]
  },
  {
   "cell_type": "code",
   "execution_count": 7,
   "id": "2910fd20-2319-4748-bec3-69e87758dce1",
   "metadata": {
    "tags": []
   },
   "outputs": [],
   "source": [
    "trips_2020 = trips_2020.dropna()"
   ]
  },
  {
   "cell_type": "markdown",
   "id": "41bb4189-6676-43ad-8614-761258a6a900",
   "metadata": {},
   "source": [
    "## Replace and convert columns to the appropriate data types"
   ]
  },
  {
   "cell_type": "code",
   "execution_count": 8,
   "id": "674a6939-6583-4c2c-9aea-c859990afa2b",
   "metadata": {
    "tags": []
   },
   "outputs": [],
   "source": [
    "# convert passenger count from float to int\n",
    "list_convert = ['VendorID','RatecodeID','payment_type','trip_type','passenger_count']\n",
    "trips_2020[list_convert] = trips_2020[list_convert].astype(int)"
   ]
  },
  {
   "cell_type": "code",
   "execution_count": 9,
   "id": "79491436-736c-4270-a118-f53b325d5aa0",
   "metadata": {},
   "outputs": [],
   "source": [
    "# Replace Y and N with True and False respectively\n",
    "trips_2020['store_and_fwd_flag'].replace({'N': False, 'Y': True}, inplace=True)"
   ]
  },
  {
   "cell_type": "code",
   "execution_count": 10,
   "id": "d58f5802-4d86-4937-8d5b-6a75d6e85fd1",
   "metadata": {},
   "outputs": [],
   "source": [
    "# convert the following columns to category\n",
    "list_convert = ['VendorID','RatecodeID','payment_type','trip_type']\n",
    "trips_2020[list_convert] = trips_2020[list_convert].astype('category')"
   ]
  },
  {
   "cell_type": "code",
   "execution_count": 11,
   "id": "6384ecfe-f772-4bb4-a53a-6563a357b52b",
   "metadata": {},
   "outputs": [],
   "source": [
    "# convert pickup and dropoff to datetime\n",
    "trips_2020['lpep_pickup_datetime'] = pd.to_datetime(trips_2020['lpep_pickup_datetime'])\n",
    "trips_2020['lpep_dropoff_datetime'] = pd.to_datetime(trips_2020['lpep_dropoff_datetime'])"
   ]
  },
  {
   "cell_type": "markdown",
   "id": "0f480629-3250-4a81-b53b-76a949add1a8",
   "metadata": {},
   "source": [
    "## Adding new Columns"
   ]
  },
  {
   "cell_type": "code",
   "execution_count": 12,
   "id": "8b57f01c-855b-4d3e-a842-97e08a97b40c",
   "metadata": {
    "tags": []
   },
   "outputs": [],
   "source": [
    "# convert distance from miles to km\n",
    "trips_2020['trip_distance_km'] = trips_2020['trip_distance'] * 1.609344"
   ]
  },
  {
   "cell_type": "code",
   "execution_count": 13,
   "id": "b6f9d4c0-224c-4f03-9974-c20b3990cacb",
   "metadata": {},
   "outputs": [],
   "source": [
    "# get time difference from dropoff and pickup\n",
    "trips_2020['time_diff'] = trips_2020['lpep_dropoff_datetime'] - trips_2020['lpep_pickup_datetime']\n",
    "\n",
    "# Make the changes permanent by modifying the data type of 'time_diff' column to timedelta\n",
    "trips_2020['time_diff'] = pd.to_timedelta(trips_2020['time_diff'], errors='coerce')"
   ]
  },
  {
   "cell_type": "code",
   "execution_count": 14,
   "id": "ebd9478d-f9b5-4a64-be56-bc7ee1f1ce85",
   "metadata": {},
   "outputs": [],
   "source": [
    "# get the pickup and dropoffs dates only\n",
    "trips_2020['pickup_date'] = pd.to_datetime(trips_2020['lpep_pickup_datetime'].dt.date)\n",
    "trips_2020['dropoff_date'] = pd.to_datetime(trips_2020['lpep_dropoff_datetime'].dt.date)"
   ]
  },
  {
   "cell_type": "code",
   "execution_count": 15,
   "id": "0cca7f63-1e97-43c4-a4a3-c6bee0096412",
   "metadata": {},
   "outputs": [],
   "source": [
    "# add columns for month of the year\n",
    "trips_2020['pickup_month'] = trips_2020['pickup_date'].dt.month\n",
    "trips_2020['dropoff_month'] = trips_2020['dropoff_date'].dt.month"
   ]
  },
  {
   "cell_type": "code",
   "execution_count": 16,
   "id": "bbac6be6-b13e-462e-8586-a2cb53eecb86",
   "metadata": {},
   "outputs": [],
   "source": [
    "# add columns for day of the week\n",
    "trips_2020['pickup_day'] = trips_2020['pickup_date'].dt.day_name()\n",
    "trips_2020['dropoff_day'] = trips_2020['dropoff_date'].dt.day_name()"
   ]
  },
  {
   "cell_type": "code",
   "execution_count": 17,
   "id": "49ca9544-9c29-4999-a1ee-caba57d6bcf1",
   "metadata": {
    "tags": []
   },
   "outputs": [],
   "source": [
    "# Extract the hours, minutes, and seconds from the timedelta column\n",
    "trips_2020['Hours'] = trips_2020['time_diff'].dt.components.hours\n",
    "trips_2020['Minutes'] = trips_2020['time_diff'].dt.components.minutes\n",
    "trips_2020['Seconds'] = trips_2020['time_diff'].dt.components.seconds\n",
    "\n",
    "# Create a new column with the time as a string (hh:mm:ss format)\n",
    "trips_2020['TimeOnly'] = trips_2020.apply(lambda row: f\"{row['Hours']:02}:{row['Minutes']:02}:{row['Seconds']:02}\", axis=1)"
   ]
  },
  {
   "cell_type": "markdown",
   "id": "3c5ebc5b-c7cd-43f9-8952-a26f105a038c",
   "metadata": {},
   "source": [
    "## Remove negative distances and negative days"
   ]
  },
  {
   "cell_type": "code",
   "execution_count": 18,
   "id": "12ce9c4a-de51-4faf-8a7e-de693102a649",
   "metadata": {},
   "outputs": [],
   "source": [
    "# remove rows with trip distance less that 0\n",
    "trips_2020.drop(trips_2020[trips_2020['trip_distance_km'] <= 0].index, inplace=True)"
   ]
  },
  {
   "cell_type": "code",
   "execution_count": 19,
   "id": "1eeecc20-4f4f-4971-9832-22e174506511",
   "metadata": {},
   "outputs": [],
   "source": [
    "# remove rows with total amount less that 0\n",
    "trips_2020.drop(trips_2020[trips_2020['total_amount'] < 0].index, inplace=True)"
   ]
  },
  {
   "cell_type": "code",
   "execution_count": 20,
   "id": "a5815d97-fa56-455d-b86b-4d03550aa8a3",
   "metadata": {},
   "outputs": [],
   "source": [
    "# remove negative time difference\n",
    "trips_2020.drop(trips_2020[trips_2020['time_diff'] <= pd.Timedelta(0)].index, inplace=True)"
   ]
  },
  {
   "cell_type": "code",
   "execution_count": 21,
   "id": "1d8ecce2-78b4-45f5-9c02-ac1f5ce0e0dc",
   "metadata": {},
   "outputs": [],
   "source": [
    "# remove rows with passenger count less that 0\n",
    "trips_2020.drop(trips_2020[trips_2020['passenger_count'] < 0].index, inplace=True)"
   ]
  },
  {
   "cell_type": "code",
   "execution_count": 22,
   "id": "ea93afec-9dd3-4626-8be1-ce1a6e3d4eac",
   "metadata": {},
   "outputs": [
    {
     "name": "stdout",
     "output_type": "stream",
     "text": [
      "0\n"
     ]
    }
   ],
   "source": [
    "count_positive = (trips_2020['trip_distance_km'] < 0).sum()\n",
    "print(count_positive)"
   ]
  },
  {
   "cell_type": "markdown",
   "id": "1044657b-14d9-4bed-a89e-ca8f5d3660f2",
   "metadata": {},
   "source": [
    "## Handling Outliers"
   ]
  },
  {
   "cell_type": "code",
   "execution_count": 23,
   "id": "ffee538c-669c-4d14-8925-2e3e35113ba6",
   "metadata": {},
   "outputs": [],
   "source": [
    "def remove_outliers(data, column_name, lower_bound_multiplier=1.5, upper_bound_multiplier=1.5):\n",
    "    \"\"\"\n",
    "    Remove outliers in a numeric column using the Interquartile Range (IQR) method.\n",
    "\n",
    "    Parameters:\n",
    "        data (DataFrame): The DataFrame containing the data.\n",
    "        column_name (str): The name of the column to analyze for outliers.\n",
    "        lower_bound_multiplier (float): The multiplier to determine the lower bound for outlier detection.\n",
    "        upper_bound_multiplier (float): The multiplier to determine the upper bound for outlier detection.\n",
    "\n",
    "    Returns:\n",
    "        DataFrame: A cleaned DataFrame with outlier rows removed.\n",
    "    \"\"\"\n",
    "    # Calculate the first quartile (Q1) and third quartile (Q3)\n",
    "    Q1 = data[column_name].quantile(0.25)\n",
    "    Q3 = data[column_name].quantile(0.75)\n",
    "\n",
    "    # Calculate the Interquartile Range (IQR)\n",
    "    IQR = Q3 - Q1\n",
    "\n",
    "    # Calculate the lower and upper bounds for outlier detection\n",
    "    lower_bound = Q1 - lower_bound_multiplier * IQR\n",
    "    upper_bound = Q3 + upper_bound_multiplier * IQR\n",
    "\n",
    "    # Remove rows with outliers in the specified column\n",
    "    # cleaned_data = data[(data[column_name] >= lower_bound) & (data[column_name] <= upper_bound)]\n",
    "    data.drop(data[(data[column_name] < lower_bound) | (data[column_name] > upper_bound)].index, inplace=True)\n",
    "\n",
    "\n",
    "    return data\n",
    "\n"
   ]
  },
  {
   "cell_type": "code",
   "execution_count": 24,
   "id": "9843bf0b-99cd-4f80-91b9-8843c155ada1",
   "metadata": {},
   "outputs": [
    {
     "name": "stdout",
     "output_type": "stream",
     "text": [
      "Original data shape: (1143493, 31)\n",
      "Cleaned data shape: (1040277, 31)\n"
     ]
    }
   ],
   "source": [
    "# Call the function to remove outliers in the 'trip_distance' column\n",
    "# Print the shape of the cleaned DataFrame to see the difference in rows\n",
    "print(\"Original data shape:\", trips_2020.shape)\n",
    "cleaned_data1 = remove_outliers(trips_2020, 'trip_distance_km')\n",
    "print(\"Cleaned data shape:\", cleaned_data1.shape)"
   ]
  },
  {
   "cell_type": "code",
   "execution_count": 25,
   "id": "7fa5dbd4-9596-4110-bdc6-f1942a27357d",
   "metadata": {},
   "outputs": [
    {
     "name": "stdout",
     "output_type": "stream",
     "text": [
      "Original data shape: (1040277, 31)\n",
      "Cleaned data shape: (1008869, 31)\n"
     ]
    }
   ],
   "source": [
    "# remove outliers from the total amount\n",
    "print(\"Original data shape:\", cleaned_data1.shape)\n",
    "cleaned_data2 = remove_outliers(cleaned_data1, 'total_amount')\n",
    "print(\"Cleaned data shape:\", cleaned_data2.shape)"
   ]
  },
  {
   "cell_type": "code",
   "execution_count": 26,
   "id": "03bdae40-6b8c-4758-8669-e4194c7ccccc",
   "metadata": {},
   "outputs": [
    {
     "name": "stdout",
     "output_type": "stream",
     "text": [
      "Original data shape: (1008869, 31)\n",
      "Cleaned data shape: (980251, 31)\n"
     ]
    }
   ],
   "source": [
    "# remove outliers from the time difference\n",
    "print(\"Original data shape:\", cleaned_data2.shape)\n",
    "cleaned_data3 = remove_outliers(cleaned_data2, 'time_diff')\n",
    "print(\"Cleaned data shape:\", cleaned_data3.shape)"
   ]
  },
  {
   "cell_type": "code",
   "execution_count": 27,
   "id": "91263b8f-601c-42c9-9476-f44802f099aa",
   "metadata": {},
   "outputs": [
    {
     "name": "stdout",
     "output_type": "stream",
     "text": [
      "<class 'pandas.core.frame.DataFrame'>\n",
      "Int64Index: 980251 entries, 0 to 1730037\n",
      "Data columns (total 31 columns):\n",
      " #   Column                 Non-Null Count   Dtype          \n",
      "---  ------                 --------------   -----          \n",
      " 0   VendorID               980251 non-null  category       \n",
      " 1   lpep_pickup_datetime   980251 non-null  datetime64[ns] \n",
      " 2   lpep_dropoff_datetime  980251 non-null  datetime64[ns] \n",
      " 3   store_and_fwd_flag     980251 non-null  bool           \n",
      " 4   RatecodeID             980251 non-null  category       \n",
      " 5   PULocationID           980251 non-null  int64          \n",
      " 6   DOLocationID           980251 non-null  int64          \n",
      " 7   passenger_count        980251 non-null  int64          \n",
      " 8   trip_distance          980251 non-null  float64        \n",
      " 9   fare_amount            980251 non-null  float64        \n",
      " 10  extra                  980251 non-null  float64        \n",
      " 11  mta_tax                980251 non-null  float64        \n",
      " 12  tip_amount             980251 non-null  float64        \n",
      " 13  tolls_amount           980251 non-null  float64        \n",
      " 14  improvement_surcharge  980251 non-null  float64        \n",
      " 15  total_amount           980251 non-null  float64        \n",
      " 16  payment_type           980251 non-null  category       \n",
      " 17  trip_type              980251 non-null  category       \n",
      " 18  congestion_surcharge   980251 non-null  float64        \n",
      " 19  trip_distance_km       980251 non-null  float64        \n",
      " 20  time_diff              980251 non-null  timedelta64[ns]\n",
      " 21  pickup_date            980251 non-null  datetime64[ns] \n",
      " 22  dropoff_date           980251 non-null  datetime64[ns] \n",
      " 23  pickup_month           980251 non-null  int64          \n",
      " 24  dropoff_month          980251 non-null  int64          \n",
      " 25  pickup_day             980251 non-null  object         \n",
      " 26  dropoff_day            980251 non-null  object         \n",
      " 27  Hours                  980251 non-null  int64          \n",
      " 28  Minutes                980251 non-null  int64          \n",
      " 29  Seconds                980251 non-null  int64          \n",
      " 30  TimeOnly               980251 non-null  object         \n",
      "dtypes: bool(1), category(4), datetime64[ns](4), float64(10), int64(8), object(3), timedelta64[ns](1)\n",
      "memory usage: 206.6+ MB\n"
     ]
    }
   ],
   "source": [
    "cleaned_data3.info()"
   ]
  },
  {
   "cell_type": "code",
   "execution_count": 28,
   "id": "15132fee-07c0-441c-bf77-6db0d8ca91a8",
   "metadata": {},
   "outputs": [],
   "source": [
    "cleaned_data3.to_csv(\"/home/dcti-02-11/projects/data/NYC_Taxi_Trips/data/clean_trips_2020.csv\", index=False)"
   ]
  },
  {
   "cell_type": "code",
   "execution_count": null,
   "id": "ad99c776-390f-4da7-b4f2-8f870c8fd668",
   "metadata": {},
   "outputs": [],
   "source": []
  },
  {
   "cell_type": "code",
   "execution_count": null,
   "id": "7804daa3-62d9-464f-a54d-bd61e92d626e",
   "metadata": {},
   "outputs": [],
   "source": []
  }
 ],
 "metadata": {
  "kernelspec": {
   "display_name": "Python 3 (ipykernel)",
   "language": "python",
   "name": "python3"
  },
  "language_info": {
   "codemirror_mode": {
    "name": "ipython",
    "version": 3
   },
   "file_extension": ".py",
   "mimetype": "text/x-python",
   "name": "python",
   "nbconvert_exporter": "python",
   "pygments_lexer": "ipython3",
   "version": "3.9.16"
  }
 },
 "nbformat": 4,
 "nbformat_minor": 5
}
