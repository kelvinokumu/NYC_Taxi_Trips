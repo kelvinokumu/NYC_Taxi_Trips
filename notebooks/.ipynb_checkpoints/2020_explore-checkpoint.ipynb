{
 "cells": [
  {
   "cell_type": "markdown",
   "id": "48be161c-ae88-4f15-b6f7-610379c0546f",
   "metadata": {},
   "source": [
    "# 2020 Data"
   ]
  },
  {
   "cell_type": "code",
   "execution_count": null,
   "id": "aa512fa3-16c5-4756-bf51-045115edc0fa",
   "metadata": {},
   "outputs": [],
   "source": [
    "import pandas as pd\n",
    "import numpy as np\n",
    "\n",
    "# to bypass warnings\n",
    "import warnings\n",
    "warnings.filterwarnings('ignore')"
   ]
  },
  {
   "cell_type": "code",
   "execution_count": null,
   "id": "fc807708-130f-45a7-872c-a693a41fb580",
   "metadata": {},
   "outputs": [],
   "source": [
    "file_path = \"/home/dcti-02-11/projects/data/NYC_Taxi_Trips/data/2020_taxi_trips.csv\"\n",
    "\n",
    "trips_2020 = pd.read_csv(file_path)"
   ]
  },
  {
   "cell_type": "code",
   "execution_count": null,
   "id": "f57fd6d9-44ed-4d8f-9107-144946dbbe4e",
   "metadata": {},
   "outputs": [],
   "source": [
    "# get structure of the data\n",
    "trips_2020.shape"
   ]
  },
  {
   "cell_type": "code",
   "execution_count": null,
   "id": "3c044ddb-3de2-477e-8d43-f6c983feb4a5",
   "metadata": {},
   "outputs": [],
   "source": [
    "trips_2020.head()"
   ]
  },
  {
   "cell_type": "code",
   "execution_count": null,
   "id": "94fffa34-852a-4dfc-aa58-f8b48ecbc74e",
   "metadata": {},
   "outputs": [],
   "source": [
    "# get information about the data\n",
    "trips_2020.info()"
   ]
  },
  {
   "cell_type": "code",
   "execution_count": null,
   "id": "6a40a2d5-7df0-4fef-8e21-228030aecc64",
   "metadata": {},
   "outputs": [],
   "source": [
    "# get percentage of missing data\n",
    "# trips_2020.isna().sum()\n",
    "trips_2020.isna().mean() * 100"
   ]
  },
  {
   "cell_type": "markdown",
   "id": "071b704c-1774-453a-9a62-d9e7dad26248",
   "metadata": {},
   "source": [
    "## get data types of all columns\n",
    "trips_2020.dtypes"
   ]
  },
  {
   "cell_type": "code",
   "execution_count": null,
   "id": "429f29d2-32db-4970-97f6-01fc2bb6f415",
   "metadata": {},
   "outputs": [],
   "source": [
    "# get value counts of all columns\n",
    "for col in trips_2020.columns:\n",
    "    print('-' * 30 + col + '-' * 30 , end=' - ')\n",
    "    # print(trips_2020['x'].value_counts())\n",
    "    display(trips_2020[col].value_counts().head(10))"
   ]
  },
  {
   "cell_type": "code",
   "execution_count": null,
   "id": "d50d2018-04a7-4c2d-ae46-f43e70505b59",
   "metadata": {},
   "outputs": [],
   "source": [
    "# change from object to date_time\n",
    "trips_2020['lpep_pickup_datetime'] = pd.to_datetime(trips_2020['lpep_pickup_datetime'])\n",
    "trips_2020['lpep_dropoff_datetime'] = pd.to_datetime(trips_2020['lpep_dropoff_datetime'])"
   ]
  },
  {
   "cell_type": "code",
   "execution_count": null,
   "id": "d7feb15c-e04c-4320-a8f5-92e61e70e1d3",
   "metadata": {},
   "outputs": [],
   "source": [
    "trips_2020.info()"
   ]
  },
  {
   "cell_type": "code",
   "execution_count": null,
   "id": "65cc37c2-648c-4145-9135-8760d63ec8ae",
   "metadata": {},
   "outputs": [],
   "source": [
    "## working with time\n",
    "trips_2020['time_diff'] = trips_2020['lpep_dropoff_datetime'] - trips_2020['lpep_pickup_datetime']"
   ]
  },
  {
   "cell_type": "code",
   "execution_count": null,
   "id": "e2ee0eb3-a7b9-4b6a-b61f-c3c882c6eb76",
   "metadata": {
    "tags": []
   },
   "outputs": [],
   "source": [
    "trips_2020.info()"
   ]
  },
  {
   "cell_type": "code",
   "execution_count": null,
   "id": "2880ef52-c31b-4a31-9d72-d93ba14095d7",
   "metadata": {},
   "outputs": [],
   "source": [
    "trips_2020.tail()"
   ]
  },
  {
   "cell_type": "code",
   "execution_count": null,
   "id": "5295c0ef-2c4f-43bc-9c52-12702d0926b5",
   "metadata": {},
   "outputs": [],
   "source": [
    "print(trips_2020['time_diff'].max())"
   ]
  },
  {
   "cell_type": "code",
   "execution_count": null,
   "id": "c21fb3c6-3f18-425a-a62e-f3ab63becdfa",
   "metadata": {},
   "outputs": [],
   "source": [
    "print(trips_2020['time_diff'].min())"
   ]
  },
  {
   "cell_type": "code",
   "execution_count": null,
   "id": "5df91a1f-35d0-42a4-8c77-349c248c2372",
   "metadata": {},
   "outputs": [],
   "source": [
    "max_row = trips_2020.loc[trips_2020['time_diff'].idxmax()]\n",
    "print(max_row)"
   ]
  },
  {
   "cell_type": "code",
   "execution_count": null,
   "id": "55458585-09c6-4e81-a8c1-fb1932a73687",
   "metadata": {},
   "outputs": [],
   "source": [
    "min_row = trips_2020.loc[trips_2020['time_diff'].idxmin()]\n",
    "print(min_row)"
   ]
  },
  {
   "cell_type": "code",
   "execution_count": null,
   "id": "4753e6b3-0a77-4757-acd7-c0603f9b2541",
   "metadata": {},
   "outputs": [],
   "source": [
    "trips_2020['pickup_date'] = trips_2020['lpep_pickup_datetime'].dt.date\n",
    "trips_2020['dropoff_date'] = trips_2020['lpep_dropoff_datetime'].dt.date"
   ]
  },
  {
   "cell_type": "code",
   "execution_count": null,
   "id": "9b5861ff-c34a-4b53-86ed-8ec4b2e3db2d",
   "metadata": {},
   "outputs": [],
   "source": [
    "trips_2020.tail()"
   ]
  },
  {
   "cell_type": "code",
   "execution_count": null,
   "id": "0200fed9-131d-4c6a-a485-efea74b2a9c6",
   "metadata": {},
   "outputs": [],
   "source": [
    "trips_2020.info()"
   ]
  },
  {
   "cell_type": "code",
   "execution_count": null,
   "id": "cf1f4e0c-c5f0-4bb6-8b1a-588326634505",
   "metadata": {},
   "outputs": [],
   "source": [
    "# change from object to date_time\n",
    "trips_2020['pickup_date'] = pd.to_datetime(trips_2020['pickup_date'])\n",
    "trips_2020['dropoff_date'] = pd.to_datetime(trips_2020['dropoff_date'])"
   ]
  },
  {
   "cell_type": "code",
   "execution_count": null,
   "id": "a4cd4283-1d5a-4e5e-935c-d7e81186b088",
   "metadata": {},
   "outputs": [],
   "source": [
    "trips_2020.info()"
   ]
  },
  {
   "cell_type": "code",
   "execution_count": null,
   "id": "0a04d105-567a-4977-b7a0-29a256507b71",
   "metadata": {},
   "outputs": [],
   "source": [
    "trips_2020['day_diff'] = trips_2020.dropoff_date - trips_2020.pickup_date"
   ]
  },
  {
   "cell_type": "code",
   "execution_count": null,
   "id": "f1a6867f-3aae-4616-a318-087d3ba36f3a",
   "metadata": {},
   "outputs": [],
   "source": [
    "trips_2020.head()"
   ]
  },
  {
   "cell_type": "code",
   "execution_count": null,
   "id": "199cc82e-fb0e-4642-89a7-fc7f373a81d1",
   "metadata": {},
   "outputs": [],
   "source": [
    "# filtered = trips_2020.loc[trips_2020['day_diff'] < pd.Timedelta(0)].sum()"
   ]
  },
  {
   "cell_type": "code",
   "execution_count": null,
   "id": "b8bf8b90-9416-4e25-8a41-47e37bf05837",
   "metadata": {},
   "outputs": [],
   "source": [
    "filtered2 = (trips_2020['day_diff'] < pd.Timedelta(0)).sum()"
   ]
  },
  {
   "cell_type": "code",
   "execution_count": null,
   "id": "c232c7c6-98b9-4dd8-b793-e7dfac0abbc9",
   "metadata": {},
   "outputs": [],
   "source": [
    "print(filtered2)"
   ]
  },
  {
   "cell_type": "markdown",
   "id": "07ca3551-8660-49a1-a4aa-3bc4d2358464",
   "metadata": {},
   "source": [
    "Outliers"
   ]
  },
  {
   "cell_type": "code",
   "execution_count": null,
   "id": "254b6bd7-d07a-431a-a49a-0c529f6b8bfa",
   "metadata": {},
   "outputs": [],
   "source": [
    "pickup_iqr = trips_2020['lpep_pickup_datetime'].quantile(0.75) - trips_2020['lpep_pickup_datetime'].quantile(0.25)\n",
    "dropoff_iqr = trips_2020['lpep_dropoff_datetime'].quantile(0.75) - trips_2020['lpep_dropoff_datetime'].quantile(0.25)"
   ]
  },
  {
   "cell_type": "markdown",
   "id": "9eb3f464-b9bb-4577-bce0-c1eb48d22448",
   "metadata": {},
   "source": [
    "pickup_iqr = df['pickup_time'].quantile(0.75) - df['pickup_time'].quantile(0.25)\n",
    "dropoff_iqr = df['dropoff_time'].quantile(0.75) - df['dropoff_time'].quantile(0.25)"
   ]
  },
  {
   "cell_type": "code",
   "execution_count": null,
   "id": "a960aba8-7995-4f37-a87c-6cc4f2a272a1",
   "metadata": {},
   "outputs": [],
   "source": [
    "print(\"Pickup Outliers:\")\n",
    "print(pickup_iqr)\n",
    "\n",
    "print(\"\\nDropoff Outliers:\")\n",
    "print(dropoff_iqr)"
   ]
  },
  {
   "cell_type": "code",
   "execution_count": null,
   "id": "6e681566-1d12-48fe-b7e0-c2390249de88",
   "metadata": {},
   "outputs": [],
   "source": []
  }
 ],
 "metadata": {
  "kernelspec": {
   "display_name": "Python 3 (ipykernel)",
   "language": "python",
   "name": "python3"
  },
  "language_info": {
   "codemirror_mode": {
    "name": "ipython",
    "version": 3
   },
   "file_extension": ".py",
   "mimetype": "text/x-python",
   "name": "python",
   "nbconvert_exporter": "python",
   "pygments_lexer": "ipython3",
   "version": "3.9.16"
  }
 },
 "nbformat": 4,
 "nbformat_minor": 5
}
