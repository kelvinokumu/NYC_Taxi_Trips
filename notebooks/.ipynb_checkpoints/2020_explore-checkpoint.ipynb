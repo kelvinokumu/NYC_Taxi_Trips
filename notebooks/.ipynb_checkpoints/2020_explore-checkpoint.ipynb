{
 "cells": [
  {
   "cell_type": "markdown",
   "id": "48be161c-ae88-4f15-b6f7-610379c0546f",
   "metadata": {},
   "source": [
    "# 2020 Data"
   ]
  },
  {
   "cell_type": "markdown",
   "id": "41726a72-eb4b-4052-975c-70e35addafed",
   "metadata": {},
   "source": [
    "## 📚 <span style=\"color:green\">Importing libraries and dataset</span>"
   ]
  },
  {
   "cell_type": "code",
   "execution_count": 53,
   "id": "aa512fa3-16c5-4756-bf51-045115edc0fa",
   "metadata": {},
   "outputs": [],
   "source": [
    "import pandas as pd\n",
    "import numpy as np\n",
    "\n",
    "# to bypass warnings\n",
    "import warnings\n",
    "warnings.filterwarnings('ignore')"
   ]
  },
  {
   "cell_type": "code",
   "execution_count": 54,
   "id": "fc807708-130f-45a7-872c-a693a41fb580",
   "metadata": {},
   "outputs": [],
   "source": [
    "file_path = \"/home/dcti-02-11/projects/data/NYC_Taxi_Trips/data/2020_taxi_trips.csv\"\n",
    "\n",
    "trips_2020 = pd.read_csv(file_path)"
   ]
  },
  {
   "cell_type": "code",
   "execution_count": null,
   "id": "86cc10cc-951a-47ed-be7a-35380bdcaa59",
   "metadata": {},
   "outputs": [],
   "source": [
    "# get value counts of all columns\n",
    "for col in trips_2020.columns:\n",
    "    print(col)"
   ]
  },
  {
   "cell_type": "code",
   "execution_count": 55,
   "id": "f57fd6d9-44ed-4d8f-9107-144946dbbe4e",
   "metadata": {},
   "outputs": [
    {
     "data": {
      "text/plain": [
       "(1734051, 19)"
      ]
     },
     "execution_count": 55,
     "metadata": {},
     "output_type": "execute_result"
    }
   ],
   "source": [
    "# get structure of the data\n",
    "trips_2020.shape"
   ]
  },
  {
   "cell_type": "code",
   "execution_count": 57,
   "id": "3c044ddb-3de2-477e-8d43-f6c983feb4a5",
   "metadata": {},
   "outputs": [
    {
     "data": {
      "text/html": [
       "<div>\n",
       "<style scoped>\n",
       "    .dataframe tbody tr th:only-of-type {\n",
       "        vertical-align: middle;\n",
       "    }\n",
       "\n",
       "    .dataframe tbody tr th {\n",
       "        vertical-align: top;\n",
       "    }\n",
       "\n",
       "    .dataframe thead th {\n",
       "        text-align: right;\n",
       "    }\n",
       "</style>\n",
       "<table border=\"1\" class=\"dataframe\">\n",
       "  <thead>\n",
       "    <tr style=\"text-align: right;\">\n",
       "      <th></th>\n",
       "      <th>VendorID</th>\n",
       "      <th>lpep_pickup_datetime</th>\n",
       "      <th>lpep_dropoff_datetime</th>\n",
       "      <th>store_and_fwd_flag</th>\n",
       "      <th>RatecodeID</th>\n",
       "      <th>PULocationID</th>\n",
       "      <th>DOLocationID</th>\n",
       "      <th>passenger_count</th>\n",
       "      <th>trip_distance</th>\n",
       "      <th>fare_amount</th>\n",
       "      <th>extra</th>\n",
       "      <th>mta_tax</th>\n",
       "      <th>tip_amount</th>\n",
       "      <th>tolls_amount</th>\n",
       "      <th>improvement_surcharge</th>\n",
       "      <th>total_amount</th>\n",
       "      <th>payment_type</th>\n",
       "      <th>trip_type</th>\n",
       "      <th>congestion_surcharge</th>\n",
       "    </tr>\n",
       "  </thead>\n",
       "  <tbody>\n",
       "    <tr>\n",
       "      <th>0</th>\n",
       "      <td>2.0</td>\n",
       "      <td>2020-01-01 06:47:28.000</td>\n",
       "      <td>2020-01-01 06:52:54.000</td>\n",
       "      <td>N</td>\n",
       "      <td>1.0</td>\n",
       "      <td>74</td>\n",
       "      <td>75</td>\n",
       "      <td>1.0</td>\n",
       "      <td>1.47</td>\n",
       "      <td>6.5</td>\n",
       "      <td>0.0</td>\n",
       "      <td>0.5</td>\n",
       "      <td>0.0</td>\n",
       "      <td>0.0</td>\n",
       "      <td>0.3</td>\n",
       "      <td>7.3</td>\n",
       "      <td>2.0</td>\n",
       "      <td>1.0</td>\n",
       "      <td>0.0</td>\n",
       "    </tr>\n",
       "    <tr>\n",
       "      <th>1</th>\n",
       "      <td>2.0</td>\n",
       "      <td>2020-01-01 13:25:34.000</td>\n",
       "      <td>2020-01-01 13:30:43.000</td>\n",
       "      <td>N</td>\n",
       "      <td>1.0</td>\n",
       "      <td>74</td>\n",
       "      <td>75</td>\n",
       "      <td>1.0</td>\n",
       "      <td>1.49</td>\n",
       "      <td>6.5</td>\n",
       "      <td>0.0</td>\n",
       "      <td>0.5</td>\n",
       "      <td>0.0</td>\n",
       "      <td>0.0</td>\n",
       "      <td>0.3</td>\n",
       "      <td>7.3</td>\n",
       "      <td>2.0</td>\n",
       "      <td>1.0</td>\n",
       "      <td>0.0</td>\n",
       "    </tr>\n",
       "    <tr>\n",
       "      <th>2</th>\n",
       "      <td>2.0</td>\n",
       "      <td>2020-01-01 14:20:35.000</td>\n",
       "      <td>2020-01-01 14:26:25.000</td>\n",
       "      <td>N</td>\n",
       "      <td>1.0</td>\n",
       "      <td>74</td>\n",
       "      <td>75</td>\n",
       "      <td>1.0</td>\n",
       "      <td>1.31</td>\n",
       "      <td>6.5</td>\n",
       "      <td>0.0</td>\n",
       "      <td>0.5</td>\n",
       "      <td>0.0</td>\n",
       "      <td>0.0</td>\n",
       "      <td>0.3</td>\n",
       "      <td>7.3</td>\n",
       "      <td>2.0</td>\n",
       "      <td>1.0</td>\n",
       "      <td>0.0</td>\n",
       "    </tr>\n",
       "    <tr>\n",
       "      <th>3</th>\n",
       "      <td>2.0</td>\n",
       "      <td>2020-01-02 06:56:47.000</td>\n",
       "      <td>2020-01-02 07:03:03.000</td>\n",
       "      <td>N</td>\n",
       "      <td>1.0</td>\n",
       "      <td>74</td>\n",
       "      <td>75</td>\n",
       "      <td>1.0</td>\n",
       "      <td>1.43</td>\n",
       "      <td>6.5</td>\n",
       "      <td>0.0</td>\n",
       "      <td>0.5</td>\n",
       "      <td>0.0</td>\n",
       "      <td>0.0</td>\n",
       "      <td>0.3</td>\n",
       "      <td>7.3</td>\n",
       "      <td>2.0</td>\n",
       "      <td>1.0</td>\n",
       "      <td>0.0</td>\n",
       "    </tr>\n",
       "    <tr>\n",
       "      <th>4</th>\n",
       "      <td>2.0</td>\n",
       "      <td>2020-01-02 09:34:46.000</td>\n",
       "      <td>2020-01-02 09:41:02.000</td>\n",
       "      <td>N</td>\n",
       "      <td>1.0</td>\n",
       "      <td>74</td>\n",
       "      <td>75</td>\n",
       "      <td>1.0</td>\n",
       "      <td>1.10</td>\n",
       "      <td>6.5</td>\n",
       "      <td>0.0</td>\n",
       "      <td>0.5</td>\n",
       "      <td>0.0</td>\n",
       "      <td>0.0</td>\n",
       "      <td>0.3</td>\n",
       "      <td>7.3</td>\n",
       "      <td>2.0</td>\n",
       "      <td>1.0</td>\n",
       "      <td>0.0</td>\n",
       "    </tr>\n",
       "  </tbody>\n",
       "</table>\n",
       "</div>"
      ],
      "text/plain": [
       "   VendorID     lpep_pickup_datetime    lpep_dropoff_datetime  \\\n",
       "0       2.0  2020-01-01 06:47:28.000  2020-01-01 06:52:54.000   \n",
       "1       2.0  2020-01-01 13:25:34.000  2020-01-01 13:30:43.000   \n",
       "2       2.0  2020-01-01 14:20:35.000  2020-01-01 14:26:25.000   \n",
       "3       2.0  2020-01-02 06:56:47.000  2020-01-02 07:03:03.000   \n",
       "4       2.0  2020-01-02 09:34:46.000  2020-01-02 09:41:02.000   \n",
       "\n",
       "  store_and_fwd_flag  RatecodeID  PULocationID  DOLocationID  passenger_count  \\\n",
       "0                  N         1.0            74            75              1.0   \n",
       "1                  N         1.0            74            75              1.0   \n",
       "2                  N         1.0            74            75              1.0   \n",
       "3                  N         1.0            74            75              1.0   \n",
       "4                  N         1.0            74            75              1.0   \n",
       "\n",
       "   trip_distance  fare_amount  extra  mta_tax  tip_amount  tolls_amount  \\\n",
       "0           1.47          6.5    0.0      0.5         0.0           0.0   \n",
       "1           1.49          6.5    0.0      0.5         0.0           0.0   \n",
       "2           1.31          6.5    0.0      0.5         0.0           0.0   \n",
       "3           1.43          6.5    0.0      0.5         0.0           0.0   \n",
       "4           1.10          6.5    0.0      0.5         0.0           0.0   \n",
       "\n",
       "   improvement_surcharge  total_amount  payment_type  trip_type  \\\n",
       "0                    0.3           7.3           2.0        1.0   \n",
       "1                    0.3           7.3           2.0        1.0   \n",
       "2                    0.3           7.3           2.0        1.0   \n",
       "3                    0.3           7.3           2.0        1.0   \n",
       "4                    0.3           7.3           2.0        1.0   \n",
       "\n",
       "   congestion_surcharge  \n",
       "0                   0.0  \n",
       "1                   0.0  \n",
       "2                   0.0  \n",
       "3                   0.0  \n",
       "4                   0.0  "
      ]
     },
     "execution_count": 57,
     "metadata": {},
     "output_type": "execute_result"
    }
   ],
   "source": [
    "trips_2020.head()"
   ]
  },
  {
   "cell_type": "code",
   "execution_count": null,
   "id": "94fffa34-852a-4dfc-aa58-f8b48ecbc74e",
   "metadata": {},
   "outputs": [],
   "source": [
    "# get information about the data\n",
    "trips_2020.info()"
   ]
  },
  {
   "cell_type": "code",
   "execution_count": null,
   "id": "6a40a2d5-7df0-4fef-8e21-228030aecc64",
   "metadata": {},
   "outputs": [],
   "source": [
    "# get percentage of missing data\n",
    "# trips_2020.isna().sum()\n",
    "trips_2020.isna().mean() * 100"
   ]
  },
  {
   "cell_type": "code",
   "execution_count": 60,
   "id": "86f54384-0968-44db-98e1-adb7cd1af3fb",
   "metadata": {},
   "outputs": [],
   "source": [
    "trips_2020 = trips_2020.dropna()"
   ]
  },
  {
   "cell_type": "markdown",
   "id": "071b704c-1774-453a-9a62-d9e7dad26248",
   "metadata": {},
   "source": [
    "## get data types of all columns\n",
    "trips_2020.dtypes"
   ]
  },
  {
   "cell_type": "code",
   "execution_count": 62,
   "id": "429f29d2-32db-4970-97f6-01fc2bb6f415",
   "metadata": {
    "tags": []
   },
   "outputs": [
    {
     "name": "stdout",
     "output_type": "stream",
     "text": [
      "------------------------------VendorID------------------------------ - "
     ]
    },
    {
     "data": {
      "text/plain": [
       "2.0    1000743\n",
       "1.0     205211\n",
       "Name: VendorID, dtype: int64"
      ]
     },
     "metadata": {},
     "output_type": "display_data"
    },
    {
     "name": "stdout",
     "output_type": "stream",
     "text": [
      "------------------------------lpep_pickup_datetime------------------------------ - "
     ]
    },
    {
     "data": {
      "text/plain": [
       "2020-02-14 17:02:13.000    6\n",
       "2020-03-09 18:23:45.000    5\n",
       "2020-01-10 18:17:59.000    5\n",
       "2020-02-07 20:57:13.000    5\n",
       "2020-02-13 10:56:20.000    5\n",
       "2020-02-03 09:55:01.000    5\n",
       "2020-03-07 17:55:45.000    5\n",
       "2020-02-12 07:59:32.000    5\n",
       "2020-02-13 18:19:08.000    5\n",
       "2020-02-20 19:38:45.000    5\n",
       "Name: lpep_pickup_datetime, dtype: int64"
      ]
     },
     "metadata": {},
     "output_type": "display_data"
    },
    {
     "name": "stdout",
     "output_type": "stream",
     "text": [
      "------------------------------lpep_dropoff_datetime------------------------------ - "
     ]
    },
    {
     "data": {
      "text/plain": [
       "2020-01-03 00:00:00.000    22\n",
       "2020-02-18 00:00:00.000    21\n",
       "2020-01-18 00:00:00.000    20\n",
       "2020-01-15 00:00:00.000    19\n",
       "2020-01-12 00:00:00.000    19\n",
       "2020-03-08 00:00:00.000    19\n",
       "2020-01-29 00:00:00.000    18\n",
       "2020-01-20 00:00:00.000    18\n",
       "2020-01-31 00:00:00.000    17\n",
       "2020-02-04 00:00:00.000    17\n",
       "Name: lpep_dropoff_datetime, dtype: int64"
      ]
     },
     "metadata": {},
     "output_type": "display_data"
    },
    {
     "name": "stdout",
     "output_type": "stream",
     "text": [
      "------------------------------store_and_fwd_flag------------------------------ - "
     ]
    },
    {
     "data": {
      "text/plain": [
       "N    1201259\n",
       "Y       4695\n",
       "Name: store_and_fwd_flag, dtype: int64"
      ]
     },
     "metadata": {},
     "output_type": "display_data"
    },
    {
     "name": "stdout",
     "output_type": "stream",
     "text": [
      "------------------------------RatecodeID------------------------------ - "
     ]
    },
    {
     "data": {
      "text/plain": [
       "1.0     1168389\n",
       "5.0       33853\n",
       "2.0        2185\n",
       "4.0         954\n",
       "3.0         558\n",
       "6.0          12\n",
       "99.0          3\n",
       "Name: RatecodeID, dtype: int64"
      ]
     },
     "metadata": {},
     "output_type": "display_data"
    },
    {
     "name": "stdout",
     "output_type": "stream",
     "text": [
      "------------------------------PULocationID------------------------------ - "
     ]
    },
    {
     "data": {
      "text/plain": [
       "74     136234\n",
       "75     117278\n",
       "41      92285\n",
       "42      57306\n",
       "166     53610\n",
       "82      47361\n",
       "244     43279\n",
       "7       42930\n",
       "95      42889\n",
       "97      40888\n",
       "Name: PULocationID, dtype: int64"
      ]
     },
     "metadata": {},
     "output_type": "display_data"
    },
    {
     "name": "stdout",
     "output_type": "stream",
     "text": [
      "------------------------------DOLocationID------------------------------ - "
     ]
    },
    {
     "data": {
      "text/plain": [
       "74     63795\n",
       "42     57923\n",
       "41     50978\n",
       "75     50111\n",
       "166    30731\n",
       "129    26301\n",
       "7      25373\n",
       "236    25204\n",
       "238    24761\n",
       "116    21359\n",
       "Name: DOLocationID, dtype: int64"
      ]
     },
     "metadata": {},
     "output_type": "display_data"
    },
    {
     "name": "stdout",
     "output_type": "stream",
     "text": [
      "------------------------------passenger_count------------------------------ - "
     ]
    },
    {
     "data": {
      "text/plain": [
       "1.0    1048934\n",
       "2.0      81506\n",
       "5.0      30527\n",
       "6.0      20440\n",
       "3.0      15765\n",
       "4.0       5477\n",
       "0.0       3193\n",
       "8.0         57\n",
       "7.0         44\n",
       "9.0         11\n",
       "Name: passenger_count, dtype: int64"
      ]
     },
     "metadata": {},
     "output_type": "display_data"
    },
    {
     "name": "stdout",
     "output_type": "stream",
     "text": [
      "------------------------------trip_distance------------------------------ - "
     ]
    },
    {
     "data": {
      "text/plain": [
       "0.0    59264\n",
       "0.9    11506\n",
       "1.0    11184\n",
       "0.8    10774\n",
       "1.2    10725\n",
       "1.1    10651\n",
       "1.3    10225\n",
       "1.4    10006\n",
       "0.7     9764\n",
       "1.5     8638\n",
       "Name: trip_distance, dtype: int64"
      ]
     },
     "metadata": {},
     "output_type": "display_data"
    },
    {
     "name": "stdout",
     "output_type": "stream",
     "text": [
      "------------------------------fare_amount------------------------------ - "
     ]
    },
    {
     "data": {
      "text/plain": [
       "6.0    61751\n",
       "6.5    59074\n",
       "7.0    58262\n",
       "5.5    57201\n",
       "5.0    53523\n",
       "7.5    51842\n",
       "8.0    51594\n",
       "8.5    44942\n",
       "9.0    42764\n",
       "4.5    42036\n",
       "Name: fare_amount, dtype: int64"
      ]
     },
     "metadata": {},
     "output_type": "display_data"
    },
    {
     "name": "stdout",
     "output_type": "stream",
     "text": [
      "------------------------------extra------------------------------ - "
     ]
    },
    {
     "data": {
      "text/plain": [
       " 0.00    674538\n",
       " 0.50    258585\n",
       " 1.00    238509\n",
       " 2.75     18248\n",
       " 3.75      7284\n",
       " 3.25      6243\n",
       "-0.50      1080\n",
       "-1.00       770\n",
       " 4.50       385\n",
       " 2.50       247\n",
       "Name: extra, dtype: int64"
      ]
     },
     "metadata": {},
     "output_type": "display_data"
    },
    {
     "name": "stdout",
     "output_type": "stream",
     "text": [
      "------------------------------mta_tax------------------------------ - "
     ]
    },
    {
     "data": {
      "text/plain": [
       " 0.50    1166506\n",
       " 0.00      35461\n",
       "-0.50       3977\n",
       " 3.55          9\n",
       " 1.00          1\n",
       "Name: mta_tax, dtype: int64"
      ]
     },
     "metadata": {},
     "output_type": "display_data"
    },
    {
     "name": "stdout",
     "output_type": "stream",
     "text": [
      "------------------------------tip_amount------------------------------ - "
     ]
    },
    {
     "data": {
      "text/plain": [
       "0.00    670803\n",
       "1.00     39484\n",
       "2.00     29758\n",
       "2.75     23910\n",
       "3.00     11913\n",
       "1.46     10235\n",
       "1.66     10132\n",
       "1.56     10115\n",
       "1.36      9738\n",
       "1.26      8784\n",
       "Name: tip_amount, dtype: int64"
      ]
     },
     "metadata": {},
     "output_type": "display_data"
    },
    {
     "name": "stdout",
     "output_type": "stream",
     "text": [
      "------------------------------tolls_amount------------------------------ - "
     ]
    },
    {
     "data": {
      "text/plain": [
       "0.00     1169249\n",
       "6.12       31112\n",
       "2.80        1784\n",
       "12.24       1427\n",
       "2.29        1040\n",
       "13.75        310\n",
       "11.75        296\n",
       "8.41         102\n",
       "5.76          65\n",
       "18.36         61\n",
       "Name: tolls_amount, dtype: int64"
      ]
     },
     "metadata": {},
     "output_type": "display_data"
    },
    {
     "name": "stdout",
     "output_type": "stream",
     "text": [
      "------------------------------improvement_surcharge------------------------------ - "
     ]
    },
    {
     "data": {
      "text/plain": [
       " 0.3    1192008\n",
       " 0.0       9768\n",
       "-0.3       4178\n",
       "Name: improvement_surcharge, dtype: int64"
      ]
     },
     "metadata": {},
     "output_type": "display_data"
    },
    {
     "name": "stdout",
     "output_type": "stream",
     "text": [
      "------------------------------total_amount------------------------------ - "
     ]
    },
    {
     "data": {
      "text/plain": [
       "7.3     35574\n",
       "7.8     35511\n",
       "6.8     34930\n",
       "8.3     34162\n",
       "6.3     31649\n",
       "8.8     30630\n",
       "9.3     27639\n",
       "5.8     27624\n",
       "9.8     26019\n",
       "10.3    24283\n",
       "Name: total_amount, dtype: int64"
      ]
     },
     "metadata": {},
     "output_type": "display_data"
    },
    {
     "name": "stdout",
     "output_type": "stream",
     "text": [
      "------------------------------payment_type------------------------------ - "
     ]
    },
    {
     "data": {
      "text/plain": [
       "1.0    663443\n",
       "2.0    532683\n",
       "3.0      7569\n",
       "4.0      2208\n",
       "5.0        51\n",
       "Name: payment_type, dtype: int64"
      ]
     },
     "metadata": {},
     "output_type": "display_data"
    },
    {
     "name": "stdout",
     "output_type": "stream",
     "text": [
      "------------------------------trip_type------------------------------ - "
     ]
    },
    {
     "data": {
      "text/plain": [
       "1.0    1174243\n",
       "2.0      31711\n",
       "Name: trip_type, dtype: int64"
      ]
     },
     "metadata": {},
     "output_type": "display_data"
    },
    {
     "name": "stdout",
     "output_type": "stream",
     "text": [
      "------------------------------congestion_surcharge------------------------------ - "
     ]
    },
    {
     "data": {
      "text/plain": [
       " 0.00    993521\n",
       " 2.75    211706\n",
       " 2.50       709\n",
       "-2.75        11\n",
       " 0.75         7\n",
       "Name: congestion_surcharge, dtype: int64"
      ]
     },
     "metadata": {},
     "output_type": "display_data"
    }
   ],
   "source": [
    "# get value counts of all columns\n",
    "for col in trips_2020.columns:\n",
    "    print('-' * 30 + col + '-' * 30 , end=' - ')\n",
    "    # print(trips_2020['x'].value_counts())\n",
    "    display(trips_2020[col].value_counts().head(10))"
   ]
  },
  {
   "cell_type": "code",
   "execution_count": null,
   "id": "77a2e189-6ac8-45df-a9b8-f60e10ce4b81",
   "metadata": {},
   "outputs": [],
   "source": [
    "colums_to_convert = ['VendorID','passenger_count','RatecodeID'.'payment_type','trip_type','store_and_fwd_flag']"
   ]
  },
  {
   "cell_type": "code",
   "execution_count": null,
   "id": "d50d2018-04a7-4c2d-ae46-f43e70505b59",
   "metadata": {},
   "outputs": [],
   "source": [
    "# change from object to date_time\n",
    "trips_2020['lpep_pickup_datetime'] = pd.to_datetime(trips_2020['lpep_pickup_datetime'])\n",
    "trips_2020['lpep_dropoff_datetime'] = pd.to_datetime(trips_2020['lpep_dropoff_datetime'])"
   ]
  },
  {
   "cell_type": "code",
   "execution_count": null,
   "id": "65cc37c2-648c-4145-9135-8760d63ec8ae",
   "metadata": {},
   "outputs": [],
   "source": [
    "## working with time\n",
    "trips_2020['time_diff'] = trips_2020['lpep_dropoff_datetime'] - trips_2020['lpep_pickup_datetime']"
   ]
  },
  {
   "cell_type": "code",
   "execution_count": null,
   "id": "5295c0ef-2c4f-43bc-9c52-12702d0926b5",
   "metadata": {},
   "outputs": [],
   "source": [
    "print(trips_2020['time_diff'].max())"
   ]
  },
  {
   "cell_type": "code",
   "execution_count": null,
   "id": "c21fb3c6-3f18-425a-a62e-f3ab63becdfa",
   "metadata": {},
   "outputs": [],
   "source": [
    "print(trips_2020['time_diff'].min())"
   ]
  },
  {
   "cell_type": "code",
   "execution_count": null,
   "id": "5df91a1f-35d0-42a4-8c77-349c248c2372",
   "metadata": {},
   "outputs": [],
   "source": [
    "max_row = trips_2020.loc[trips_2020['time_diff'].idxmax()]\n",
    "print(max_row)"
   ]
  },
  {
   "cell_type": "code",
   "execution_count": null,
   "id": "55458585-09c6-4e81-a8c1-fb1932a73687",
   "metadata": {},
   "outputs": [],
   "source": [
    "min_row = trips_2020.loc[trips_2020['time_diff'].idxmin()]\n",
    "print(min_row)"
   ]
  },
  {
   "cell_type": "code",
   "execution_count": null,
   "id": "4753e6b3-0a77-4757-acd7-c0603f9b2541",
   "metadata": {},
   "outputs": [],
   "source": [
    "trips_2020['pickup_date'] = trips_2020['lpep_pickup_datetime'].dt.date\n",
    "trips_2020['dropoff_date'] = trips_2020['lpep_dropoff_datetime'].dt.date"
   ]
  },
  {
   "cell_type": "code",
   "execution_count": null,
   "id": "cf1f4e0c-c5f0-4bb6-8b1a-588326634505",
   "metadata": {},
   "outputs": [],
   "source": [
    "# change from object to date_time\n",
    "trips_2020['pickup_date'] = pd.to_datetime(trips_2020['pickup_date'])\n",
    "trips_2020['dropoff_date'] = pd.to_datetime(trips_2020['dropoff_date'])"
   ]
  },
  {
   "cell_type": "code",
   "execution_count": null,
   "id": "0a04d105-567a-4977-b7a0-29a256507b71",
   "metadata": {},
   "outputs": [],
   "source": [
    "trips_2020['day_diff'] = trips_2020.dropoff_date - trips_2020.pickup_date"
   ]
  },
  {
   "cell_type": "code",
   "execution_count": null,
   "id": "199cc82e-fb0e-4642-89a7-fc7f373a81d1",
   "metadata": {},
   "outputs": [],
   "source": [
    "# filtered = trips_2020.loc[trips_2020['day_diff'] < pd.Timedelta(0)].sum()"
   ]
  },
  {
   "cell_type": "code",
   "execution_count": null,
   "id": "b8bf8b90-9416-4e25-8a41-47e37bf05837",
   "metadata": {},
   "outputs": [],
   "source": [
    "filtered2 = (trips_2020['day_diff'] < pd.Timedelta(0)).sum()"
   ]
  },
  {
   "cell_type": "code",
   "execution_count": null,
   "id": "c232c7c6-98b9-4dd8-b793-e7dfac0abbc9",
   "metadata": {},
   "outputs": [],
   "source": [
    "print(filtered2)"
   ]
  },
  {
   "cell_type": "markdown",
   "id": "07ca3551-8660-49a1-a4aa-3bc4d2358464",
   "metadata": {},
   "source": [
    "Outliers"
   ]
  },
  {
   "cell_type": "code",
   "execution_count": null,
   "id": "254b6bd7-d07a-431a-a49a-0c529f6b8bfa",
   "metadata": {},
   "outputs": [],
   "source": [
    "pickup_iqr = trips_2020['lpep_pickup_datetime'].quantile(0.75) - trips_2020['lpep_pickup_datetime'].quantile(0.25)\n",
    "dropoff_iqr = trips_2020['lpep_dropoff_datetime'].quantile(0.75) - trips_2020['lpep_dropoff_datetime'].quantile(0.25)"
   ]
  },
  {
   "cell_type": "markdown",
   "id": "9eb3f464-b9bb-4577-bce0-c1eb48d22448",
   "metadata": {},
   "source": [
    "pickup_iqr = df['pickup_time'].quantile(0.75) - df['pickup_time'].quantile(0.25)\n",
    "dropoff_iqr = df['dropoff_time'].quantile(0.75) - df['dropoff_time'].quantile(0.25)"
   ]
  },
  {
   "cell_type": "code",
   "execution_count": null,
   "id": "a960aba8-7995-4f37-a87c-6cc4f2a272a1",
   "metadata": {},
   "outputs": [],
   "source": [
    "print(\"Pickup Outliers:\")\n",
    "print(pickup_iqr)\n",
    "\n",
    "print(\"\\nDropoff Outliers:\")\n",
    "print(dropoff_iqr)"
   ]
  },
  {
   "cell_type": "code",
   "execution_count": null,
   "id": "6e681566-1d12-48fe-b7e0-c2390249de88",
   "metadata": {},
   "outputs": [],
   "source": [
    "trips_2020.info()"
   ]
  },
  {
   "cell_type": "code",
   "execution_count": null,
   "id": "9ed0f884-828c-46c2-abc4-0a8c070ac97b",
   "metadata": {},
   "outputs": [],
   "source": [
    "trips_2020.trip_distance.min()"
   ]
  },
  {
   "cell_type": "code",
   "execution_count": null,
   "id": "adb216e9-9815-4da9-99e3-6243a774fec9",
   "metadata": {},
   "outputs": [],
   "source": [
    "trips_2020.trip_distance.max()"
   ]
  },
  {
   "cell_type": "code",
   "execution_count": null,
   "id": "3fb9e8db-369f-417b-8f15-892cf1b24ca3",
   "metadata": {},
   "outputs": [],
   "source": [
    "count_negative = (trips_2020['trip_distance'] < 1).sum()"
   ]
  },
  {
   "cell_type": "code",
   "execution_count": null,
   "id": "d63ee1eb-de8d-44a2-96db-4f5b69fe2cbb",
   "metadata": {},
   "outputs": [],
   "source": [
    "print(count_negative)"
   ]
  },
  {
   "cell_type": "code",
   "execution_count": null,
   "id": "c2b5fecc-6779-476d-9a65-2b962ea0a3c0",
   "metadata": {},
   "outputs": [],
   "source": [
    "count_positive = (trips_2020['trip_distance'] > 100000).sum()\n",
    "print(count_positive)"
   ]
  },
  {
   "cell_type": "code",
   "execution_count": null,
   "id": "021fc03a-cb2b-456f-8e03-acf378dfaf1a",
   "metadata": {},
   "outputs": [],
   "source": [
    "trips_2020.shape"
   ]
  },
  {
   "cell_type": "code",
   "execution_count": null,
   "id": "4b804b98-e9ad-4f01-9953-4167804ea3ba",
   "metadata": {},
   "outputs": [],
   "source": [
    "print(trips_2020.total_amount.max())\n",
    "print(trips_2020.total_amount.min())"
   ]
  },
  {
   "cell_type": "code",
   "execution_count": null,
   "id": "782bad73-5396-42ce-8925-92aac6ea85e0",
   "metadata": {},
   "outputs": [],
   "source": [
    "count_negative = (trips_2020['total_amount'] < 5).sum()\n",
    "print(count_negative)"
   ]
  },
  {
   "cell_type": "code",
   "execution_count": null,
   "id": "7a34fe2e-507e-4dbf-8c48-2844294b52cd",
   "metadata": {},
   "outputs": [],
   "source": [
    "count_negative = (trips_2020['total_amount'] < 30).sum()\n",
    "print(count_negative)"
   ]
  },
  {
   "cell_type": "code",
   "execution_count": null,
   "id": "9466887f-18a6-4deb-9380-6e11cff8aef7",
   "metadata": {},
   "outputs": [],
   "source": [
    "trips_2020.head()"
   ]
  },
  {
   "cell_type": "code",
   "execution_count": null,
   "id": "550a0f45-e85c-4a20-abc5-214ce08b9452",
   "metadata": {},
   "outputs": [],
   "source": [
    "trips_2020.info()"
   ]
  },
  {
   "cell_type": "code",
   "execution_count": null,
   "id": "cacce3ad-cbf3-438a-9160-7474412cdad1",
   "metadata": {},
   "outputs": [],
   "source": [
    "trips_2020['pickup_day'] = trips_2020['pickup_date'].dt.day_name()"
   ]
  },
  {
   "cell_type": "code",
   "execution_count": null,
   "id": "65f76f50-1f5e-4499-b2a5-0d0d227b65e5",
   "metadata": {},
   "outputs": [],
   "source": []
  },
  {
   "cell_type": "code",
   "execution_count": null,
   "id": "472980df-1095-4649-a33a-e149f1cac486",
   "metadata": {},
   "outputs": [],
   "source": [
    "trips_2020['dropoff_day'] = trips_2020['dropoff_date'].dt.day_name()"
   ]
  },
  {
   "cell_type": "code",
   "execution_count": null,
   "id": "6e5d3357-4a84-450d-8ec0-3f5fb207006b",
   "metadata": {},
   "outputs": [],
   "source": [
    "trips_2020['pickup_month'] = trips_2020['pickup_date'].dt.month"
   ]
  },
  {
   "cell_type": "code",
   "execution_count": null,
   "id": "b4149c78-7da3-46fd-bb7a-77985a919c37",
   "metadata": {},
   "outputs": [],
   "source": []
  },
  {
   "cell_type": "code",
   "execution_count": 63,
   "id": "46b9f7b0-86c2-42d1-8082-d5b627f0a8f6",
   "metadata": {},
   "outputs": [
    {
     "name": "stdout",
     "output_type": "stream",
     "text": [
      "<class 'pandas.core.frame.DataFrame'>\n",
      "Int64Index: 1205954 entries, 0 to 1730575\n",
      "Data columns (total 19 columns):\n",
      " #   Column                 Non-Null Count    Dtype  \n",
      "---  ------                 --------------    -----  \n",
      " 0   VendorID               1205954 non-null  float64\n",
      " 1   lpep_pickup_datetime   1205954 non-null  object \n",
      " 2   lpep_dropoff_datetime  1205954 non-null  object \n",
      " 3   store_and_fwd_flag     1205954 non-null  object \n",
      " 4   RatecodeID             1205954 non-null  float64\n",
      " 5   PULocationID           1205954 non-null  int64  \n",
      " 6   DOLocationID           1205954 non-null  int64  \n",
      " 7   passenger_count        1205954 non-null  float64\n",
      " 8   trip_distance          1205954 non-null  float64\n",
      " 9   fare_amount            1205954 non-null  float64\n",
      " 10  extra                  1205954 non-null  float64\n",
      " 11  mta_tax                1205954 non-null  float64\n",
      " 12  tip_amount             1205954 non-null  float64\n",
      " 13  tolls_amount           1205954 non-null  float64\n",
      " 14  improvement_surcharge  1205954 non-null  float64\n",
      " 15  total_amount           1205954 non-null  float64\n",
      " 16  payment_type           1205954 non-null  float64\n",
      " 17  trip_type              1205954 non-null  float64\n",
      " 18  congestion_surcharge   1205954 non-null  float64\n",
      "dtypes: float64(14), int64(2), object(3)\n",
      "memory usage: 184.0+ MB\n"
     ]
    }
   ],
   "source": [
    "trips_2020.info()"
   ]
  },
  {
   "cell_type": "code",
   "execution_count": null,
   "id": "fcab7e2e-fd26-4ecc-aede-d9c837f841d9",
   "metadata": {},
   "outputs": [],
   "source": [
    "trips_2020.head()"
   ]
  },
  {
   "cell_type": "code",
   "execution_count": null,
   "id": "5ccb05a4-5fea-4432-beb0-c9e841c73dc1",
   "metadata": {},
   "outputs": [],
   "source": [
    "trips_2020.groupby(['pickup_month']).sum()"
   ]
  },
  {
   "cell_type": "code",
   "execution_count": null,
   "id": "1dd5d181-bca2-4853-a93c-84a13d846f43",
   "metadata": {},
   "outputs": [],
   "source": [
    "trips_2020.groupby(['pickup_day'])['passenger_count'].count()"
   ]
  },
  {
   "cell_type": "code",
   "execution_count": null,
   "id": "d63f6abd-b356-4ffc-a7fe-c173e2c348d1",
   "metadata": {},
   "outputs": [],
   "source": []
  }
 ],
 "metadata": {
  "kernelspec": {
   "display_name": "Python 3 (ipykernel)",
   "language": "python",
   "name": "python3"
  },
  "language_info": {
   "codemirror_mode": {
    "name": "ipython",
    "version": 3
   },
   "file_extension": ".py",
   "mimetype": "text/x-python",
   "name": "python",
   "nbconvert_exporter": "python",
   "pygments_lexer": "ipython3",
   "version": "3.9.17"
  }
 },
 "nbformat": 4,
 "nbformat_minor": 5
}
